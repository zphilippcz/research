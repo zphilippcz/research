{
 "cells": [
  {
   "cell_type": "code",
   "execution_count": 4,
   "id": "6635160e-5b37-4bc8-9fed-c831a7b0abfa",
   "metadata": {},
   "outputs": [
    {
     "name": "stdout",
     "output_type": "stream",
     "text": [
      "Slovo: oli, Možné opravy: ['oui', 'olé', 'oil', 'olio', 'old', 'obi', 'li', 'soli', 'olid', 'oi']\n"
     ]
    }
   ],
   "source": [
    "from spellchecker import SpellChecker\n",
    "\n",
    "# Inicializace SpellCheckeru\n",
    "spell = SpellChecker()\n",
    "\n",
    "# Příklad textu s překlepy\n",
    "text = \"oli change\"\n",
    "\n",
    "# Rozdělení textu na slova\n",
    "words = text.split()\n",
    "\n",
    "# Vyhledání překlepů\n",
    "misspelled = spell.unknown(words)\n",
    "\n",
    "# Oprava překlepů a výpis výsledků\n",
    "for word in misspelled:\n",
    "    corrected_word = spell.candidates(word)  # Možné opravy\n",
    "    print(f\"Slovo: {word}, Možné opravy: {list(corrected_word)}\")"
   ]
  },
  {
   "cell_type": "code",
   "execution_count": 32,
   "id": "6dc9c524-3f65-4fb8-8a87-39076a25eb93",
   "metadata": {},
   "outputs": [
    {
     "name": "stdout",
     "output_type": "stream",
     "text": [
      "oli        change\n"
     ]
    }
   ],
   "source": [
    "from autocorrect import Speller\n",
    "\n",
    "spell = Speller()\n",
    "text = \"oli        change\"\n",
    "corrected_text = spell(text)\n",
    "print(corrected_text)"
   ]
  },
  {
   "cell_type": "code",
   "execution_count": 58,
   "id": "e826308d-fa1c-43ba-aac3-252ab3a98f59",
   "metadata": {},
   "outputs": [
    {
     "name": "stdout",
     "output_type": "stream",
     "text": [
      "oil\n",
      "massage\n"
     ]
    }
   ],
   "source": [
    "from fuzzywuzzy import process\n",
    "\n",
    "dictionary = [\"oil\", \"change\", \"massage\", \"couples\", \"couple\", \"zoom\", \"teeth\", \"whitening\"]\n",
    "for w in [\"oli\", \"mesage\"]:\n",
    "    corrected_word = process.extractOne(w, dictionary)\n",
    "    print(corrected_word[0]) # "
   ]
  },
  {
   "cell_type": "code",
   "execution_count": 56,
   "id": "369b0d6c-cb33-4146-89fb-cbcf315fa985",
   "metadata": {},
   "outputs": [
    {
     "name": "stdout",
     "output_type": "stream",
     "text": [
      "couples (skóre: 90)\n",
      "couple (skóre: 90)\n"
     ]
    }
   ],
   "source": [
    "w = \"coup\"\n",
    "top_matches = process.extractBests(w, dictionary, limit=2)\n",
    "\n",
    "for match in top_matches:\n",
    "    print(f\"{match[0]} (skóre: {match[1]})\")"
   ]
  },
  {
   "cell_type": "code",
   "execution_count": 61,
   "id": "b65a8a36-175b-4cf1-acde-f05f657cce7b",
   "metadata": {},
   "outputs": [
    {
     "name": "stdout",
     "output_type": "stream",
     "text": [
      "change (skóre: 90)\n",
      "oil (skóre: 60)\n",
      "couple (skóre: 38)\n"
     ]
    }
   ],
   "source": [
    "w = \"oli change\"\n",
    "top_matches = process.extractBests(w, dictionary, limit=3)\n",
    "\n",
    "for match in top_matches:\n",
    "    print(f\"{match[0]} (skóre: {match[1]})\")"
   ]
  },
  {
   "cell_type": "code",
   "execution_count": 60,
   "id": "f81c1e69-fb3e-4b65-ae3b-4ce6d132725b",
   "metadata": {},
   "outputs": [
    {
     "name": "stdout",
     "output_type": "stream",
     "text": [
      "zoom (skóre: 90)\n",
      "whitening (skóre: 80)\n",
      "teeth (skóre: 72)\n"
     ]
    }
   ],
   "source": [
    "w = \"zoom tewth whitenning\"\n",
    "top_matches = process.extractBests(w, dictionary, limit=3)\n",
    "\n",
    "for match in top_matches:\n",
    "    print(f\"{match[0]} (skóre: {match[1]})\")"
   ]
  },
  {
   "cell_type": "code",
   "execution_count": null,
   "id": "7487f111-66a7-43f4-aa12-b9971e69059b",
   "metadata": {},
   "outputs": [],
   "source": []
  },
  {
   "cell_type": "code",
   "execution_count": null,
   "id": "76e322d1-63d5-4e9c-8b87-b8d34897b8ad",
   "metadata": {},
   "outputs": [],
   "source": []
  }
 ],
 "metadata": {
  "kernelspec": {
   "display_name": "Python 3 (ipykernel)",
   "language": "python",
   "name": "python3"
  },
  "language_info": {
   "codemirror_mode": {
    "name": "ipython",
    "version": 3
   },
   "file_extension": ".py",
   "mimetype": "text/x-python",
   "name": "python",
   "nbconvert_exporter": "python",
   "pygments_lexer": "ipython3",
   "version": "3.12.2"
  }
 },
 "nbformat": 4,
 "nbformat_minor": 5
}
