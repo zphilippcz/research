{
 "cells": [
  {
   "cell_type": "code",
   "execution_count": 2,
   "id": "feb9311a-335a-4c84-b2da-2ee77ccb676a",
   "metadata": {},
   "outputs": [],
   "source": [
    "import sqlite3\n",
    "import pandas as pd\n",
    "from gensim.models import Word2Vec\n",
    "from nltk.tokenize import word_tokenize\n",
    "from sklearn.feature_extraction.text import TfidfVectorizer\n",
    "\n",
    "import nltk\n",
    "import re\n",
    "\n",
    "db_path = 'deals_db.db'"
   ]
  },
  {
   "cell_type": "code",
   "execution_count": 3,
   "id": "d0a4cc0f-31b2-4edc-b09d-5ec45833c6bd",
   "metadata": {},
   "outputs": [],
   "source": [
    "def clean_text(text):\n",
    "    if text is None:\n",
    "        return ''\n",
    "    # HTML\n",
    "    text = re.sub(r'<[^>]+>', '', text)\n",
    "    # clean all except letters\n",
    "    text = re.sub(r'[^a-zA-Zá-žÁ-Ž0-9\\s]', '', text)\n",
    "    # remove more spaces\n",
    "    text = re.sub(r'\\s+', ' ', text).strip().lower()\n",
    "    return text"
   ]
  },
  {
   "cell_type": "code",
   "execution_count": 4,
   "id": "e688ee05-5458-4903-9584-a786ab852f7e",
   "metadata": {},
   "outputs": [],
   "source": [
    "conn = sqlite3.connect(db_path)\n",
    "cursor = conn.cursor()\n",
    "\n",
    "cursor.execute(\"\"\"SELECT d.title || ' ' || d.title_general AS document\n",
    "    FROM deals_clean c\n",
    "        JOIN deals d ON (c.deal_id=d.deal_id)\n",
    "        JOIN categories c ON (d.customer_category_id=c.id)\n",
    "    -- LIMIT 100 OFFSET 12000\n",
    "    -- WHERE document like '%oil%'\n",
    "\"\"\")\n",
    "rows = cursor.fetchall()"
   ]
  },
  {
   "cell_type": "code",
   "execution_count": 5,
   "id": "89bdeb3d-37d3-4cd2-9a73-67b9fddd1cfc",
   "metadata": {},
   "outputs": [
    {
     "data": {
      "text/plain": [
       "[('Sunset Tour by Kayak on Sebago Lake Maine Sunset Tour by Kayak on Sebago Lake Maine',),\n",
       " ('Quarter Rotisserie Chicken Meal Savor the Flavor: Quarter Rotisserie Chicken Meal at Texas Rotisserie And Grill-2581 Broadway(Up to 28% Off)',),\n",
       " (\"A 30-minute foot reflexology massage, 30-minute detoxifying footbath and 20-minute head, neck and shoulder massage Experience Whole Health Network's Reflexology and Detox Foot Baths with up to 37% off\",),\n",
       " ('Two 60-Minute Anti-Aging RF Frequency Facial with LED Up to 55% Off on Anti-Aging Facial at All Things Skin Organic Skincare',),\n",
       " ('Two 30 Minute Sauna Sessions Up to 42% Off on Spa - Sauna - Infrared at Lash and Bronze',),\n",
       " (\"Chimney Sweep Set Experience Carolina HVAC's chimney sweep set for clean fireplaces with up to 89% off\",),\n",
       " ('Parking for Tennis: Pollen 2023 Tour (03/31/23) Parking at 820 N. Front St. – Lot',),\n",
       " ('One 60 min Non Invasive Butt Lift One 60 min Non Invasive Butt Lift with a Wood Therapy Massage (Up to 60% Off)',),\n",
       " ('Anti-again Facial with skin analysis Explore rejuvenating facials with Skin By V, offering Anti-Again and Custom Facial options up to 40% off.',),\n",
       " (\"6 LipoLean Injections Experience Genesis Weight and Age Management's B12 & LipoLean injections with up to 82% off for ultimate energy revitalization\",)]"
      ]
     },
     "execution_count": 5,
     "metadata": {},
     "output_type": "execute_result"
    }
   ],
   "source": [
    "rows[:10]"
   ]
  },
  {
   "cell_type": "code",
   "execution_count": 137,
   "id": "0ed98197-fd5f-4190-9776-ec8bd8106e20",
   "metadata": {},
   "outputs": [],
   "source": [
    "sentences = []\n",
    "count = 0\n",
    "for deal in rows:\n",
    "    #if deal[0] is not None:\n",
    "    #    sents = deal[0].split('. ')\n",
    "    #for sen in sents:\n",
    "    sentences.append(clean_text(deal[0]))\n",
    "sentencesList = [word_tokenize(sen) for sen in sentences]"
   ]
  },
  {
   "cell_type": "code",
   "execution_count": null,
   "id": "580744cb-333e-4fbe-a64b-e452cf46b151",
   "metadata": {},
   "outputs": [],
   "source": [
    "sentencesList[:100]"
   ]
  },
  {
   "cell_type": "code",
   "execution_count": 151,
   "id": "c55504e6-f043-496d-847d-4d9a2db1bbd5",
   "metadata": {},
   "outputs": [
    {
     "data": {
      "text/plain": [
       "(230517, 446480)"
      ]
     },
     "execution_count": 151,
     "metadata": {},
     "output_type": "execute_result"
    }
   ],
   "source": [
    "model = Word2Vec(sentencesList, vector_size=100, window=4, min_count=3, workers=4)\n",
    "model.train(sentencesList, total_examples=len(sentencesList), epochs=10)"
   ]
  },
  {
   "cell_type": "code",
   "execution_count": 152,
   "id": "54c435b0-4610-4964-9bb4-80d84a9bb29f",
   "metadata": {},
   "outputs": [],
   "source": [
    "model.save(\"models/word2vec.model\")"
   ]
  },
  {
   "cell_type": "code",
   "execution_count": 153,
   "id": "34abfc37-c1fc-46e5-b6ae-9f597d3a13b5",
   "metadata": {},
   "outputs": [
    {
     "name": "stdout",
     "output_type": "stream",
     "text": [
      "['oil', 'with', 'to', 'up', 'change', 'off', 'massage', 'and', 'at', 'synthetic', 'hot', 'or', 'full', 'one', 'essential', 'body', 'on', 'stone', 'for', 'couples', 'blend', '60minute', 'stones', 'treatment', 'spa', 'experience', 'a', 'foot', 'oils', 'tire', 'auto', 'deep', 'filter', 'inspection', 'tissue', 'swedish', '50', 'of', 'service', 'options', '60', 'rotation', 'valvoline', 'conventional', 'replacement', 'massages', '25', 'instant', 'w', 'deluxe', 'services', 'two', 'care', '55', 'car', 'package', 'minute', 'aromatherapy', 'cbd', 'brake', 'relaxation', 'therapeutic', 'reflexology', 'free', 'repair', 'your', '90minute', 'lube', 'custom', '50minute', 'center', 'changes', 'offering', '30', 'signature', 'enjoy', '40', 'haircut', 'combo', '1', 'toilet', 'discover', 'scrub', 'more', 'choice', 'the', 'therapy', 'semisynthetic', 'style', 'valid', 'hair', 'including', 'relaxing', 'coconut', 'automotive', 'in', '35', 'deeptissue', 'foil', 'aroma']\n"
     ]
    }
   ],
   "source": [
    "print(model.wv.index_to_key[:100])"
   ]
  },
  {
   "cell_type": "code",
   "execution_count": 155,
   "id": "a3cf99ae-0712-46df-bc75-bc40b56e8bb2",
   "metadata": {},
   "outputs": [
    {
     "data": {
      "text/plain": [
       "[('conventional', 0.9843521118164062),\n",
       " ('blend', 0.9780659675598145),\n",
       " ('fullsynthetic', 0.9672417640686035),\n",
       " ('syntheticblend', 0.9616682529449463),\n",
       " ('semisynthetic', 0.9604526162147522),\n",
       " ('mileage', 0.9506848454475403),\n",
       " ('semi', 0.9435716867446899),\n",
       " ('street', 0.9399734735488892),\n",
       " ('avenue', 0.9394060969352722),\n",
       " ('road', 0.9362101554870605)]"
      ]
     },
     "execution_count": 155,
     "metadata": {},
     "output_type": "execute_result"
    }
   ],
   "source": [
    "model.wv.most_similar('synthetic', topn=10)"
   ]
  },
  {
   "cell_type": "code",
   "execution_count": 6,
   "id": "991bcc3d-7e40-41df-847c-0ee75a3acea0",
   "metadata": {},
   "outputs": [],
   "source": [
    "corpus = []\n",
    "for row in rows:\n",
    "    line = clean_text(row[0])\n",
    "    corpus.append(line)"
   ]
  },
  {
   "cell_type": "code",
   "execution_count": null,
   "id": "13b085bd-b8f8-473a-93ed-bb402a65b7ef",
   "metadata": {},
   "outputs": [],
   "source": [
    "corpus[:10]"
   ]
  },
  {
   "cell_type": "code",
   "execution_count": null,
   "id": "3eefc7e2-76c3-4874-93f5-f32ac7177adc",
   "metadata": {},
   "outputs": [],
   "source": [
    "del rows\n",
    "# TfidfVectorizer init for bigrams\n",
    "tfidf_vectorizer = TfidfVectorizer(ngram_range=(2, 2))\n",
    "tfidf_matrix = tfidf_vectorizer.fit_transform(corpus)\n",
    "\n",
    "bigrams = tfidf_vectorizer.get_feature_names_out()\n",
    "tfidf_df = pd.DataFrame(tfidf_matrix.toarray(), columns=bigrams)\n",
    "\n",
    "# Count AVG TF-IDF for every bigram\n",
    "mean_tfidf = tfidf_df.mean(axis=0)\n",
    "\n",
    "# to dataframe\n",
    "mean_tfidf = pd.DataFrame(mean_tfidf, columns=['tfidf']).reset_index()\n",
    "mean_tfidf.columns = ['bigram', 'tfidf']\n",
    "mean_tfidf = mean_tfidf[mean_tfidf['tfidf'] > 0.0001]\n",
    "\n",
    "output_file = 'models/mean_tfidf_bigram.csv'\n",
    "mean_tfidf.to_csv(output_file, index=False)"
   ]
  },
  {
   "cell_type": "code",
   "execution_count": 236,
   "id": "d534e9bd-ec3b-4e5c-ba2a-709c28be66bb",
   "metadata": {},
   "outputs": [
    {
     "data": {
      "text/html": [
       "<div>\n",
       "<style scoped>\n",
       "    .dataframe tbody tr th:only-of-type {\n",
       "        vertical-align: middle;\n",
       "    }\n",
       "\n",
       "    .dataframe tbody tr th {\n",
       "        vertical-align: top;\n",
       "    }\n",
       "\n",
       "    .dataframe thead th {\n",
       "        text-align: right;\n",
       "    }\n",
       "</style>\n",
       "<table border=\"1\" class=\"dataframe\">\n",
       "  <thead>\n",
       "    <tr style=\"text-align: right;\">\n",
       "      <th></th>\n",
       "      <th>bigram</th>\n",
       "      <th>tfidf</th>\n",
       "    </tr>\n",
       "  </thead>\n",
       "  <tbody>\n",
       "    <tr>\n",
       "      <th>5800</th>\n",
       "      <td>laser genesis</td>\n",
       "      <td>0.000310</td>\n",
       "    </tr>\n",
       "    <tr>\n",
       "      <th>5802</th>\n",
       "      <td>laser lipo</td>\n",
       "      <td>0.000241</td>\n",
       "    </tr>\n",
       "    <tr>\n",
       "      <th>5801</th>\n",
       "      <td>laser hair</td>\n",
       "      <td>0.000195</td>\n",
       "    </tr>\n",
       "    <tr>\n",
       "      <th>5805</th>\n",
       "      <td>lasting natural</td>\n",
       "      <td>0.000148</td>\n",
       "    </tr>\n",
       "    <tr>\n",
       "      <th>5807</th>\n",
       "      <td>lasting shellac</td>\n",
       "      <td>0.000136</td>\n",
       "    </tr>\n",
       "    <tr>\n",
       "      <th>5799</th>\n",
       "      <td>laser alignments</td>\n",
       "      <td>0.000132</td>\n",
       "    </tr>\n",
       "    <tr>\n",
       "      <th>5798</th>\n",
       "      <td>laser aesthetics</td>\n",
       "      <td>0.000130</td>\n",
       "    </tr>\n",
       "    <tr>\n",
       "      <th>5806</th>\n",
       "      <td>lasting relief</td>\n",
       "      <td>0.000126</td>\n",
       "    </tr>\n",
       "    <tr>\n",
       "      <th>5797</th>\n",
       "      <td>las vegas</td>\n",
       "      <td>0.000120</td>\n",
       "    </tr>\n",
       "    <tr>\n",
       "      <th>5803</th>\n",
       "      <td>laser luxury</td>\n",
       "      <td>0.000116</td>\n",
       "    </tr>\n",
       "  </tbody>\n",
       "</table>\n",
       "</div>"
      ],
      "text/plain": [
       "                bigram     tfidf\n",
       "5800     laser genesis  0.000310\n",
       "5802        laser lipo  0.000241\n",
       "5801        laser hair  0.000195\n",
       "5805   lasting natural  0.000148\n",
       "5807   lasting shellac  0.000136\n",
       "5799  laser alignments  0.000132\n",
       "5798  laser aesthetics  0.000130\n",
       "5806    lasting relief  0.000126\n",
       "5797         las vegas  0.000120\n",
       "5803      laser luxury  0.000116"
      ]
     },
     "execution_count": 236,
     "metadata": {},
     "output_type": "execute_result"
    }
   ],
   "source": [
    "search_word = 'las'\n",
    "\n",
    "mean_tfidf[mean_tfidf[\"bigram\"].str.startswith(search_word)].sort_values(by='tfidf', ascending=False).head(10)"
   ]
  },
  {
   "cell_type": "code",
   "execution_count": null,
   "id": "bd2d2f78-9929-48f9-9fb4-a34c7026f546",
   "metadata": {},
   "outputs": [],
   "source": []
  }
 ],
 "metadata": {
  "kernelspec": {
   "display_name": "Python 3 (ipykernel)",
   "language": "python",
   "name": "python3"
  },
  "language_info": {
   "codemirror_mode": {
    "name": "ipython",
    "version": 3
   },
   "file_extension": ".py",
   "mimetype": "text/x-python",
   "name": "python",
   "nbconvert_exporter": "python",
   "pygments_lexer": "ipython3",
   "version": "3.12.2"
  }
 },
 "nbformat": 4,
 "nbformat_minor": 5
}
