{
 "cells": [
  {
   "cell_type": "code",
   "execution_count": 1,
   "id": "ee7ec42e-a230-419a-8f32-ffa4af07bfcf",
   "metadata": {},
   "outputs": [
    {
     "name": "stderr",
     "output_type": "stream",
     "text": [
      "/Users/zphilipp/miniconda3/lib/python3.12/site-packages/tqdm/auto.py:21: TqdmWarning: IProgress not found. Please update jupyter and ipywidgets. See https://ipywidgets.readthedocs.io/en/stable/user_install.html\n",
      "  from .autonotebook import tqdm as notebook_tqdm\n",
      "/Users/zphilipp/miniconda3/lib/python3.12/site-packages/transformers/tokenization_utils_base.py:1601: FutureWarning: `clean_up_tokenization_spaces` was not set. It will be set to `True` by default. This behavior will be depracted in transformers v4.45, and will be then set to `False` by default. For more details check this issue: https://github.com/huggingface/transformers/issues/31884\n",
      "  warnings.warn(\n"
     ]
    }
   ],
   "source": [
    "import pandas as pd\n",
    "import numpy as np\n",
    "import sqlite3\n",
    "from sklearn.feature_extraction.text import TfidfVectorizer\n",
    "import time\n",
    "import re\n",
    "from sentence_transformers import SentenceTransformer, util\n",
    "model = SentenceTransformer('all-MiniLM-L6-v2')\n",
    "\n",
    "pd.set_option('display.max_rows', None)\n",
    "#pd.set_option('display.max_colwidth', None)\n",
    "\n",
    "db_path = '/Users/zphilipp/git/research/dealsdb/deals_db1.db'\n",
    "\n",
    "prepositions_and_conjunctions = [\n",
    "    \"about\", \"above\", \"across\", \"after\", \"against\", \"along\", \"among\", \"around\", \"at\",\n",
    "    \"before\", \"behind\", \"below\", \"beneath\", \"beside\", \"between\", \"beyond\", \"by\",\n",
    "    \"during\", \"for\", \"from\", \"in\", \"inside\", \"into\", \"near\", \"of\", \"off\", \"on\",\n",
    "    \"out\", \"outside\", \"over\", \"through\", \"throughout\", \"to\", \"toward\", \"under\",\n",
    "    \"until\", \"up\", \"with\", \"within\", \"without\", \"and\", \"but\", \"or\", \"for\", \"nor\",\n",
    "    \"so\", \"yet\", \"although\", \"because\", \"as\", \"since\", \"unless\", \"while\", \"when\",\n",
    "    \"where\", \"after\", \"before\", \"the\", \"a\"\n",
    "]\n",
    "pattern = r'\\b(?:' + '|'.join(prepositions_and_conjunctions) + r')\\b'\n",
    "\n",
    "def remove_prepositions_and_conjunctions(text):\n",
    "    cleaned_text = re.sub(pattern, '', text, flags=re.IGNORECASE)\n",
    "    cleaned_text = re.sub(r'\\d+', '', cleaned_text)\n",
    "    return re.sub(r'\\s+', ' ', cleaned_text).strip()\n",
    "\n",
    "# Get Words for embeddings\n",
    "def get_words_for_embeddings(row):\n",
    "    words = []\n",
    "    for item in row:\n",
    "        words.append(item[0])\n",
    "    return words"
   ]
  },
  {
   "cell_type": "code",
   "execution_count": 2,
   "id": "a6d888dd-6d54-4ca9-bae8-8397a0dd73cf",
   "metadata": {},
   "outputs": [],
   "source": [
    "conn = sqlite3.connect(db_path)\n",
    "cursor = conn.cursor()\n",
    "\n",
    "sql_query = \"\"\"\n",
    "    SELECT\n",
    "        d.customer_category_id,\n",
    "        c.name,\n",
    "        GROUP_CONCAT(d.title_general, ',') || ' ' || GROUP_CONCAT(o.title, ',') AS text\n",
    "    FROM deals d\n",
    "        JOIN customer_taxonomy c ON (d.customer_category_id=c.id)\n",
    "        LEFT JOIN options o ON (d.deal_id=o.deal_id)\n",
    "    GROUP BY customer_category_id\n",
    "    -- LIMIT 100\n",
    "\"\"\"\n",
    "\n",
    "# Execute the query and load the data into a DataFrame\n",
    "df = pd.read_sql_query(sql_query, conn)\n",
    "conn.close()"
   ]
  },
  {
   "cell_type": "code",
   "execution_count": 3,
   "id": "c6416ef0-c98d-432e-9ace-a532814f828f",
   "metadata": {},
   "outputs": [],
   "source": [
    "def get_important_words(document):\n",
    "    document = remove_prepositions_and_conjunctions(document)\n",
    "    document = [document]\n",
    "\n",
    "    vectorizer = TfidfVectorizer()\n",
    "    tfidf_matrix = vectorizer.fit_transform(document)\n",
    "\n",
    "    feature_names = vectorizer.get_feature_names_out()\n",
    "    first_document_vector = tfidf_matrix[0]\n",
    "    important_words = sorted(\n",
    "        [(feature_names[i], first_document_vector[0, i]) for i in first_document_vector.nonzero()[1]],\n",
    "        key=lambda x: x[1], reverse=True\n",
    "    )\n",
    "    return important_words"
   ]
  },
  {
   "cell_type": "code",
   "execution_count": 4,
   "id": "7fca7fd3-9136-4ebc-8835-619bdd3d0153",
   "metadata": {},
   "outputs": [
    {
     "data": {
      "text/html": [
       "<div>\n",
       "<style scoped>\n",
       "    .dataframe tbody tr th:only-of-type {\n",
       "        vertical-align: middle;\n",
       "    }\n",
       "\n",
       "    .dataframe tbody tr th {\n",
       "        vertical-align: top;\n",
       "    }\n",
       "\n",
       "    .dataframe thead th {\n",
       "        text-align: right;\n",
       "    }\n",
       "</style>\n",
       "<table border=\"1\" class=\"dataframe\">\n",
       "  <thead>\n",
       "    <tr style=\"text-align: right;\">\n",
       "      <th></th>\n",
       "      <th>name</th>\n",
       "      <th>important_words</th>\n",
       "      <th>words</th>\n",
       "      <th>embedings</th>\n",
       "    </tr>\n",
       "  </thead>\n",
       "  <tbody>\n",
       "    <tr>\n",
       "      <th>0</th>\n",
       "      <td>Hair Extensions &amp; Wigs</td>\n",
       "      <td>[(women, 0.5013460125133989), (men, 0.33508421...</td>\n",
       "      <td>[women, men, xl, pack, sleeve, black, long, fo...</td>\n",
       "      <td>[[0.007278031, -0.020804347, -0.012120812, 0.0...</td>\n",
       "    </tr>\n",
       "    <tr>\n",
       "      <th>1</th>\n",
       "      <td>Eyebrow Embroidery</td>\n",
       "      <td>[(extensions, 0.3950043026695996), (eyebrow, 0...</td>\n",
       "      <td>[extensions, eyebrow, set, full, lash, one, ey...</td>\n",
       "      <td>[[-0.029260742, 0.00788737, 0.0001703182, -0.0...</td>\n",
       "    </tr>\n",
       "    <tr>\n",
       "      <th>2</th>\n",
       "      <td>Escape Games</td>\n",
       "      <td>[(escape, 0.6554168439500331), (room, 0.510030...</td>\n",
       "      <td>[escape, room, people, murder, private, valid,...</td>\n",
       "      <td>[[0.018107658, 0.023809472, -0.0030498987, 0.0...</td>\n",
       "    </tr>\n",
       "    <tr>\n",
       "      <th>3</th>\n",
       "      <td>Wallets</td>\n",
       "      <td>[(wallet, 0.533966078168827), (women, 0.342544...</td>\n",
       "      <td>[wallet, women, card, rfid, blocking, holder, ...</td>\n",
       "      <td>[[0.002588826, 0.09205439, -0.060293734, -0.00...</td>\n",
       "    </tr>\n",
       "    <tr>\n",
       "      <th>4</th>\n",
       "      <td>Underwear &amp; Undershirts</td>\n",
       "      <td>[(piece, 0.39193833369309394), (men, 0.3919383...</td>\n",
       "      <td>[piece, men, thermal, set, winter, top, bottom...</td>\n",
       "      <td>[[-0.05713177, 0.109446764, 0.00094258774, -0....</td>\n",
       "    </tr>\n",
       "  </tbody>\n",
       "</table>\n",
       "</div>"
      ],
      "text/plain": [
       "                      name                                    important_words  \\\n",
       "0   Hair Extensions & Wigs  [(women, 0.5013460125133989), (men, 0.33508421...   \n",
       "1       Eyebrow Embroidery  [(extensions, 0.3950043026695996), (eyebrow, 0...   \n",
       "2             Escape Games  [(escape, 0.6554168439500331), (room, 0.510030...   \n",
       "3                  Wallets  [(wallet, 0.533966078168827), (women, 0.342544...   \n",
       "4  Underwear & Undershirts  [(piece, 0.39193833369309394), (men, 0.3919383...   \n",
       "\n",
       "                                               words  \\\n",
       "0  [women, men, xl, pack, sleeve, black, long, fo...   \n",
       "1  [extensions, eyebrow, set, full, lash, one, ey...   \n",
       "2  [escape, room, people, murder, private, valid,...   \n",
       "3  [wallet, women, card, rfid, blocking, holder, ...   \n",
       "4  [piece, men, thermal, set, winter, top, bottom...   \n",
       "\n",
       "                                           embedings  \n",
       "0  [[0.007278031, -0.020804347, -0.012120812, 0.0...  \n",
       "1  [[-0.029260742, 0.00788737, 0.0001703182, -0.0...  \n",
       "2  [[0.018107658, 0.023809472, -0.0030498987, 0.0...  \n",
       "3  [[0.002588826, 0.09205439, -0.060293734, -0.00...  \n",
       "4  [[-0.05713177, 0.109446764, 0.00094258774, -0....  "
      ]
     },
     "execution_count": 4,
     "metadata": {},
     "output_type": "execute_result"
    }
   ],
   "source": [
    "df['important_words'] = df['text'].apply(get_important_words)\n",
    "df = df[['name', 'important_words']]\n",
    "df['words'] = df['important_words'].apply(get_words_for_embeddings)\n",
    "df['embedings'] = df['words'].apply(model.encode)\n",
    "df.head()"
   ]
  },
  {
   "cell_type": "code",
   "execution_count": 5,
   "id": "86856081-14d7-4389-85af-47a4dcd4e371",
   "metadata": {},
   "outputs": [],
   "source": [
    "def count_euclidean_distance(df, query):\n",
    "    metrics = []\n",
    "\n",
    "    for index, row in df.iterrows():\n",
    "        category = np.array(row['embedings'])  \n",
    "        # embeding AVG \n",
    "        category_mean = np.mean(category, axis=0)\n",
    "\n",
    "        # cosine similarity\n",
    "        dot_product = np.dot(category_mean, query.T)\n",
    "        norm_category = np.linalg.norm(category_mean)\n",
    "        norm_query = np.linalg.norm(query)\n",
    "\n",
    "        if norm_category == 0 or norm_query == 0:\n",
    "            cosine_similarity = 0\n",
    "        else:\n",
    "            cosine_similarity = dot_product / (norm_category * norm_query)\n",
    "\n",
    "        cosine_distance = 1 - cosine_similarity\n",
    "        euclidean_distance = np.linalg.norm(category_mean - query)\n",
    "\n",
    "        metrics.append({\n",
    "            'name': row['name'], \n",
    "            'cosine_distance': cosine_distance,\n",
    "            'euclidean_distance': euclidean_distance\n",
    "        })\n",
    "    \n",
    "    # to dataframe\n",
    "    return pd.DataFrame(metrics)"
   ]
  },
  {
   "cell_type": "code",
   "execution_count": 6,
   "id": "4534a473-e890-4a5c-9c31-0600ee3e06fa",
   "metadata": {},
   "outputs": [
    {
     "name": "stdout",
     "output_type": "stream",
     "text": [
      "Category: Shave, Euclidean distance: 1.050406813621521\n",
      "Category: Shaving & Grooming, Euclidean distance: 1.0827836990356445\n",
      "Category: Color & Highlights, Euclidean distance: 1.0841929912567139\n",
      "Category: Scalp & Hair Treatments, Euclidean distance: 1.0847097635269165\n",
      "Category: Hair & Styling, Euclidean distance: 1.0879900455474854\n",
      "Category: Hair Care, Euclidean distance: 1.1002392768859863\n",
      "Category: Textured Hair Care, Euclidean distance: 1.1008548736572266\n",
      "Category: Upper Lip Wax, Euclidean distance: 1.1096110343933105\n",
      "Category: Pet Supplies, Euclidean distance: 1.1236134767532349\n",
      "Category: Skin Care Tools, Euclidean distance: 1.128180980682373\n"
     ]
    }
   ],
   "source": [
    "# here is the main issue\n",
    "# Query embeding online\n",
    "query = np.array(model.encode(['hair', 'cut']))\n",
    "\n",
    "distance_df = count_euclidean_distance(df, query)\n",
    "# top 10 closest embedings\n",
    "closest_embeddings = distance_df.nsmallest(10, 'euclidean_distance')\n",
    "for index, row in closest_embeddings.sort_values(['euclidean_distance'], ascending = True).iterrows():\n",
    "    print(f\"Category: {row['name']}, Euclidean distance: {row['euclidean_distance']}\")"
   ]
  },
  {
   "cell_type": "code",
   "execution_count": 8,
   "id": "3efa54a1-d2cd-4cf8-9dba-0653539e1156",
   "metadata": {},
   "outputs": [
    {
     "name": "stdout",
     "output_type": "stream",
     "text": [
      "Category: Massage Accessories, Euclidean distance: 1.1642603874206543\n",
      "Category: Shiatsu Massage, Euclidean distance: 1.1751201152801514\n",
      "Category: Classic Massage, Euclidean distance: 1.17940092086792\n",
      "Category: Foot & Leg Massagers, Euclidean distance: 1.179640293121338\n",
      "Category: Thai Massage, Euclidean distance: 1.1806066036224365\n",
      "Category: Pulse Massagers, Euclidean distance: 1.1809428930282593\n",
      "Category: Aromatherapy, Euclidean distance: 1.1850820779800415\n",
      "Category: Feminine Care, Euclidean distance: 1.1880848407745361\n",
      "Category: Pain Relief, Euclidean distance: 1.1881052255630493\n",
      "Category: Reflexology, Euclidean distance: 1.1884011030197144\n"
     ]
    }
   ],
   "source": [
    "# here is the main issue\n",
    "# Query embeding online\n",
    "query = np.array(model.encode(['massage', 'oil']))\n",
    "\n",
    "distance_df = count_euclidean_distance(df, query)\n",
    "# top 10 closest embedings\n",
    "closest_embeddings = distance_df.nsmallest(10, 'euclidean_distance')\n",
    "for index, row in closest_embeddings.sort_values(['euclidean_distance'], ascending = True).iterrows():\n",
    "    print(f\"Category: {row['name']}, Euclidean distance: {row['euclidean_distance']}\")"
   ]
  },
  {
   "cell_type": "code",
   "execution_count": 9,
   "id": "3cf363c9-6937-48c8-8caf-a4e13667c85d",
   "metadata": {},
   "outputs": [
    {
     "name": "stdout",
     "output_type": "stream",
     "text": [
      "Category: Boats & Water Sports, Euclidean distance: 1.1208205223083496\n",
      "Category: Inflatables, Euclidean distance: 1.1229444742202759\n",
      "Category: Pools & Water Fun, Euclidean distance: 1.1339777708053589\n",
      "Category: Kayaking, Euclidean distance: 1.1547462940216064\n",
      "Category: Kayaking, Euclidean distance: 1.1649143695831299\n",
      "Category: Athletic, Euclidean distance: 1.1677696704864502\n",
      "Category: Unique Lodging, Euclidean distance: 1.1684733629226685\n",
      "Category: Outdoor Lighting, Euclidean distance: 1.1694552898406982\n",
      "Category: Pool & Water Fun, Euclidean distance: 1.170409083366394\n",
      "Category: Hotel Spas, Euclidean distance: 1.1708201169967651\n"
     ]
    }
   ],
   "source": [
    "# here is the main issue\n",
    "# Query embeding online\n",
    "query = np.array(model.encode(['water', 'park']))\n",
    "\n",
    "distance_df = count_euclidean_distance(df, query)\n",
    "# top 10 closest embedings\n",
    "closest_embeddings = distance_df.nsmallest(10, 'euclidean_distance')\n",
    "for index, row in closest_embeddings.sort_values(['euclidean_distance'], ascending = True).iterrows():\n",
    "    print(f\"Category: {row['name']}, Euclidean distance: {row['euclidean_distance']}\")"
   ]
  },
  {
   "cell_type": "code",
   "execution_count": 10,
   "id": "960580d8-28be-4973-b6ff-55b3b221f09f",
   "metadata": {},
   "outputs": [
    {
     "name": "stdout",
     "output_type": "stream",
     "text": [
      "Category: Facial, Euclidean distance: 1.505852222442627\n",
      "Category: Face & Skin Care, Euclidean distance: 1.5062943696975708\n",
      "Category: Weight Loss, Euclidean distance: 1.5065338611602783\n",
      "Category: Cosmetic Procedures, Euclidean distance: 1.506898045539856\n",
      "Category: Salon Packages, Euclidean distance: 1.5071290731430054\n",
      "Category: Shampoo & Conditioners, Euclidean distance: 1.5073918104171753\n",
      "Category: Facial Peel, Euclidean distance: 1.50751531124115\n",
      "Category: Injectables & Fillers, Euclidean distance: 1.507830023765564\n",
      "Category: Medical, Euclidean distance: 1.5078840255737305\n",
      "Category: Spas, Euclidean distance: 1.5085259675979614\n"
     ]
    }
   ],
   "source": [
    "# here is the main issue\n",
    "# Query embeding online\n",
    "query = np.array(model.encode(['valvoline', 'syntetic', 'oil']))\n",
    "\n",
    "distance_df = count_euclidean_distance(df, query)\n",
    "# top 10 closest embedings\n",
    "closest_embeddings = distance_df.nsmallest(10, 'euclidean_distance')\n",
    "for index, row in closest_embeddings.sort_values(['euclidean_distance'], ascending = True).iterrows():\n",
    "    print(f\"Category: {row['name']}, Euclidean distance: {row['euclidean_distance']}\")"
   ]
  },
  {
   "cell_type": "code",
   "execution_count": null,
   "id": "9b0c6761-c0d8-4439-aa99-09954a34c8ad",
   "metadata": {},
   "outputs": [],
   "source": []
  }
 ],
 "metadata": {
  "kernelspec": {
   "display_name": "Python 3 (ipykernel)",
   "language": "python",
   "name": "python3"
  },
  "language_info": {
   "codemirror_mode": {
    "name": "ipython",
    "version": 3
   },
   "file_extension": ".py",
   "mimetype": "text/x-python",
   "name": "python",
   "nbconvert_exporter": "python",
   "pygments_lexer": "ipython3",
   "version": "3.12.2"
  }
 },
 "nbformat": 4,
 "nbformat_minor": 5
}
