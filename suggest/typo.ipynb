{
 "cells": [
  {
   "cell_type": "code",
   "execution_count": 1,
   "id": "ee7ec42e-a230-419a-8f32-ffa4af07bfcf",
   "metadata": {},
   "outputs": [],
   "source": [
    "import pandas as pd\n",
    "import re\n",
    "from collections import Counter\n",
    "\n",
    "import numpy as np\n",
    "\n",
    "pd.set_option('display.max_rows', None)\n",
    "\n",
    "db_path = 'deals_db.db'"
   ]
  },
  {
   "cell_type": "code",
   "execution_count": 2,
   "id": "1d8a3204-2145-431a-9dfb-2eeaeb0907b5",
   "metadata": {},
   "outputs": [],
   "source": [
    "def clean_text(text):\n",
    "    cleaned_text = re.sub(r'\\b[a-zA-Z]\\b|\\b\\d+\\b', '', text)\n",
    "    return re.sub(r'\\s+', ' ', cleaned_text).strip().lower()"
   ]
  },
  {
   "cell_type": "code",
   "execution_count": 3,
   "id": "f616c883-367c-4cc6-b4cc-914fee401744",
   "metadata": {},
   "outputs": [
    {
     "data": {
      "text/plain": [
       "['amc',\n",
       " 'atv',\n",
       " 'atlantic city',\n",
       " 'bowlero',\n",
       " 'brazilian',\n",
       " 'brazilian wax',\n",
       " 'cancun',\n",
       " 'cinema',\n",
       " 'christmas',\n",
       " 'christmas cards',\n",
       " 'chuck e. cheese',\n",
       " 'coolsculpting',\n",
       " \"save and buster's\",\n",
       " 'disney',\n",
       " 'disneyland',\n",
       " 'emsculpt',\n",
       " 'halloween',\n",
       " 'ipl',\n",
       " 'jpcenney',\n",
       " 'juvederm']"
      ]
     },
     "execution_count": 3,
     "metadata": {},
     "output_type": "execute_result"
    }
   ],
   "source": [
    "# dict_uniq -> filtered corrected words from top queries\n",
    "df = pd.read_csv(\"models/dict_uniq.csv\")\n",
    "df.count()\n",
    "word_list = df[\"query\"].tolist()\n",
    "word_list[:20]"
   ]
  },
  {
   "cell_type": "code",
   "execution_count": 4,
   "id": "5870d935-8953-4b46-be66-b223d3bc0372",
   "metadata": {},
   "outputs": [
    {
     "name": "stdout",
     "output_type": "stream",
     "text": [
      "Most similar wird to \"acm\" is \"amc\" with score 4.0.\n",
      "Most similar wird to \"oli\" is \"oil\" with score 4.0.\n",
      "Most similar wird to \"oli chance\" is \"change oil\" with score 9.0.\n",
      "Most similar wird to \"ifone\" is \"iphone\" with score 4.333333333333334.\n",
      "Most similar wird to \"cuple\" is \"couple\" with score 5.166666666666667.\n",
      "Most similar wird to \"message\" is \"massage\" with score 7.0.\n",
      "Most similar wird to \"valentyn\" is \"valentine's day\" with score 10.266666666666666.\n",
      "Most similar wird to \"pakr\" is \"parking\" with score 4.285714285714286.\n"
     ]
    }
   ],
   "source": [
    "def calculate_similarity(word1, word2):\n",
    "\n",
    "    counter1 = Counter(word1)\n",
    "    counter2 = Counter(word2)\n",
    "\n",
    "    common_letters = set(counter1.keys()) & set(counter2.keys())\n",
    "    similarity_score = sum(min(counter1[letter], counter2[letter]) for letter in common_letters)\n",
    "\n",
    "    length_factor = min(len(word1), len(word2)) / max(len(word1), len(word2))\n",
    "\n",
    "    initial_match_bonus = 0\n",
    "    for i in range(min(len(word1), len(word2))):\n",
    "        if word1[i] == word2[i]:\n",
    "            initial_match_bonus += 1\n",
    "        else:\n",
    "            break\n",
    "\n",
    "    total_similarity = (similarity_score * length_factor) + initial_match_bonus\n",
    "    return total_similarity\n",
    "\n",
    "\n",
    "# Test\n",
    "input_words = ['acm', 'oli', 'oli chance', 'ifone', 'cuple', 'message', 'valentyn', 'pakr' ]\n",
    "\n",
    "for input_word in input_words:\n",
    "\n",
    "    similarities = {word: calculate_similarity(input_word, word) for word in word_list}\n",
    "    most_similar_word = max(similarities, key=similarities.get)\n",
    "\n",
    "    print(f'Most similar wird to \"{input_word}\" is \"{most_similar_word}\" with score {similarities[most_similar_word]}.')\n"
   ]
  },
  {
   "cell_type": "code",
   "execution_count": null,
   "id": "9c6e13a5-e669-4022-9120-18433087b3ea",
   "metadata": {},
   "outputs": [],
   "source": []
  }
 ],
 "metadata": {
  "kernelspec": {
   "display_name": "Python 3 (ipykernel)",
   "language": "python",
   "name": "python3"
  },
  "language_info": {
   "codemirror_mode": {
    "name": "ipython",
    "version": 3
   },
   "file_extension": ".py",
   "mimetype": "text/x-python",
   "name": "python",
   "nbconvert_exporter": "python",
   "pygments_lexer": "ipython3",
   "version": "3.12.2"
  }
 },
 "nbformat": 4,
 "nbformat_minor": 5
}
