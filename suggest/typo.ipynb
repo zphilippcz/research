{
 "cells": [
  {
   "cell_type": "code",
   "execution_count": 42,
   "id": "ee7ec42e-a230-419a-8f32-ffa4af07bfcf",
   "metadata": {},
   "outputs": [],
   "source": [
    "import pandas as pd\n",
    "import sqlite3\n",
    "import re\n",
    "import nltk\n",
    "from nltk.tokenize import word_tokenize\n",
    "from sklearn.feature_extraction.text import TfidfVectorizer\n",
    "from sklearn.metrics.pairwise import cosine_similarity\n",
    "from sklearn.feature_extraction.text import CountVectorizer\n",
    "\n",
    "import numpy as np\n",
    "\n",
    "pd.set_option('display.max_rows', None)\n",
    "\n",
    "db_path = 'deals_db.db'"
   ]
  },
  {
   "cell_type": "code",
   "execution_count": 46,
   "id": "1d8a3204-2145-431a-9dfb-2eeaeb0907b5",
   "metadata": {
    "jupyter": {
     "source_hidden": true
    }
   },
   "outputs": [],
   "source": [
    "def clean_text(text):\n",
    "    cleaned_text = re.sub(r'\\b[a-zA-Z]\\b|\\b\\d+\\b', '', text)\n",
    "    return re.sub(r'\\s+', ' ', cleaned_text).strip().lower()"
   ]
  },
  {
   "cell_type": "code",
   "execution_count": 48,
   "id": "a6d888dd-6d54-4ca9-bae8-8397a0dd73cf",
   "metadata": {
    "jupyter": {
     "source_hidden": true
    }
   },
   "outputs": [],
   "source": [
    "conn = sqlite3.connect(db_path)\n",
    "cursor = conn.cursor()\n",
    "\n",
    "cursor.execute(\"\"\"SELECT c.title || \" \" ||  c.title_general as document\n",
    "    FROM deals c\n",
    "\"\"\")\n",
    "rows = cursor.fetchall()\n",
    "\n",
    "conn.close()"
   ]
  },
  {
   "cell_type": "code",
   "execution_count": 52,
   "id": "c6416ef0-c98d-432e-9ace-a532814f828f",
   "metadata": {
    "jupyter": {
     "source_hidden": true
    }
   },
   "outputs": [],
   "source": [
    "corpus = []\n",
    "for row in rows:\n",
    "    if row[0]:\n",
    "        line = clean_text(row[0])\n",
    "        corpus.append(line)"
   ]
  },
  {
   "cell_type": "code",
   "execution_count": 53,
   "id": "a5dfb9ee-88ce-4800-9964-db7006245117",
   "metadata": {
    "collapsed": true,
    "jupyter": {
     "outputs_hidden": true
    }
   },
   "outputs": [
    {
     "data": {
      "text/plain": [
       "['sunset tour by kayak on sebago lake maine sunset tour by kayak on sebago lake maine',\n",
       " 'quarter rotisserie chicken meal savor the flavor: quarter rotisserie chicken meal at texas rotisserie and grill- broadway(up to % off)']"
      ]
     },
     "execution_count": 53,
     "metadata": {},
     "output_type": "execute_result"
    }
   ],
   "source": [
    "corpus[:2]"
   ]
  },
  {
   "cell_type": "code",
   "execution_count": 55,
   "id": "480ba8ba-2c39-4387-b6ec-99af1e18fa3a",
   "metadata": {
    "jupyter": {
     "source_hidden": true
    }
   },
   "outputs": [],
   "source": [
    "tokens = []\n",
    "for line in corpus:\n",
    "    data = word_tokenize(line)\n",
    "    for word in data:\n",
    "    #filtered_data = [[word for word in sentence if len(word) > 2] for sentence in data]\n",
    "        if len(word) > 2:\n",
    "            tokens.append(word)"
   ]
  },
  {
   "cell_type": "code",
   "execution_count": null,
   "id": "2b008289-f94e-43b1-a08c-989128be00f5",
   "metadata": {},
   "outputs": [],
   "source": []
  },
  {
   "cell_type": "code",
   "execution_count": null,
   "id": "7c71ba1f-9851-4aa4-8e77-7c5ee2d11a0f",
   "metadata": {
    "jupyter": {
     "source_hidden": true
    }
   },
   "outputs": [],
   "source": [
    "#documents = [' '.join(sentence) for sentence in tokens]\n",
    "documents = [' '.join(tokens)]\n",
    "\n",
    "# Inicializace TfidfVectorizer\n",
    "#tfidf_vectorizer = TfidfVectorizer(ngram_range=(1, 1))\n",
    "\n",
    "# Fit and transform data\n",
    "#tfidf_matrix = tfidf_vectorizer.fit_transform(documents)\n",
    "\n",
    "# Get feature names\n",
    "#trigrams = tfidf_vectorizer.get_feature_names_out()\n",
    "\n",
    "# Compute the mean TF-IDF scores\n",
    "#mean_tfidf = np.asarray(tfidf_matrix.mean(axis=0)).flatten()\n",
    "\n",
    "#filtered_mean_tfidf = [(trigram, tfidf) for trigram, tfidf in zip(trigrams, mean_tfidf) if tfidf > 0.000001]\n",
    "\n",
    "\n",
    "# Save to CSV\n",
    "#output_file = 'models/mean_tfidf_unigram.csv'\n",
    "#with open(output_file, 'w', encoding='utf-8') as f:\n",
    "#    f.write('unigram,tfidf\\n')\n",
    "#    for trigram, tfidf in filtered_mean_tfidf:\n",
    "#       f.write(f'{trigram},{tfidf}\\n')\n",
    "documents[:10]"
   ]
  },
  {
   "cell_type": "code",
   "execution_count": 8,
   "id": "5ce26565-3132-4e88-9ab9-416ec4022aa9",
   "metadata": {
    "collapsed": true,
    "jupyter": {
     "outputs_hidden": true
    }
   },
   "outputs": [
    {
     "data": {
      "text/plain": [
       "unigram    51009\n",
       "tfidf      51009\n",
       "dtype: int64"
      ]
     },
     "execution_count": 8,
     "metadata": {},
     "output_type": "execute_result"
    }
   ],
   "source": [
    "df = pd.read_csv(\"models/mean_tfidf_unigram.csv\").sort_values([\"tfidf\"], ascending = False)\n",
    "df.count()"
   ]
  },
  {
   "cell_type": "code",
   "execution_count": 89,
   "id": "3dc81f4d-85a5-4527-afb9-7506e6376e1b",
   "metadata": {
    "collapsed": true,
    "jupyter": {
     "outputs_hidden": true
    },
    "scrolled": true
   },
   "outputs": [
    {
     "data": {
      "text/plain": [
       "[('002oz57ml', 1.5954199494191315e-05),\n",
       " ('003oz11g', 1.5954199494191315e-05),\n",
       " ('004oz11g', 4.786259848257395e-05),\n",
       " ('007oz22g', 1.5954199494191315e-05),\n",
       " ('008oz24g', 1.5954199494191315e-05),\n",
       " ('010oz3g', 1.5954199494191315e-05),\n",
       " ('012oz35g', 1.5954199494191315e-05),\n",
       " ('015ct', 2.3931299241286974e-05),\n",
       " ('015mm', 2.3931299241286974e-05),\n",
       " ('016oz52ml', 1.5954199494191315e-05)]"
      ]
     },
     "execution_count": 89,
     "metadata": {},
     "output_type": "execute_result"
    }
   ],
   "source": [
    "filtered_mean_tfidf[:10]"
   ]
  },
  {
   "cell_type": "code",
   "execution_count": null,
   "id": "448298d8-1be9-4be3-8f4b-441f4b476e23",
   "metadata": {
    "jupyter": {
     "source_hidden": true
    }
   },
   "outputs": [],
   "source": [
    "df = pd.read_csv(\"models/mean_tfidf_unigram.csv\").sort_values([\"tfidf\"], ascending = False)\n",
    "df.count()\n",
    "dictionary = df[\"unigram\"].tolist()\n",
    "dictionary"
   ]
  },
  {
   "cell_type": "code",
   "execution_count": 107,
   "id": "1aad465a-f946-4501-830a-4b17d99fbd80",
   "metadata": {
    "jupyter": {
     "source_hidden": true
    }
   },
   "outputs": [
    {
     "name": "stdout",
     "output_type": "stream",
     "text": [
      "('vol', 90)\n",
      "('message', 92)\n"
     ]
    }
   ],
   "source": [
    "from fuzzywuzzy import process\n",
    "\n",
    "dictionary = df[\"unigram\"].tolist()\n",
    "for w in [\"valvoln\", \"mesage\"]:\n",
    "    corrected_word = process.extractBests(w, dictionary)\n",
    "    print(corrected_word[0]) # "
   ]
  },
  {
   "cell_type": "code",
   "execution_count": 116,
   "id": "f616c883-367c-4cc6-b4cc-914fee401744",
   "metadata": {},
   "outputs": [
    {
     "data": {
      "text/plain": [
       "['amc',\n",
       " 'atv',\n",
       " 'atlantic city',\n",
       " 'bowlero',\n",
       " 'brazilian',\n",
       " 'brazilian wax',\n",
       " 'cancun',\n",
       " 'cinema',\n",
       " 'christmas',\n",
       " 'christmas cards',\n",
       " 'chuck e. cheese',\n",
       " 'coolsculpting',\n",
       " \"save and buster's\",\n",
       " 'disney',\n",
       " 'disneyland',\n",
       " 'emsculpt',\n",
       " 'halloween',\n",
       " 'ipl',\n",
       " 'jpcenney',\n",
       " 'juvederm']"
      ]
     },
     "execution_count": 116,
     "metadata": {},
     "output_type": "execute_result"
    }
   ],
   "source": [
    "df = pd.read_csv(\"models/dict_uniq.csv\")\n",
    "df.count()\n",
    "word_list = df[\"query\"].tolist()\n",
    "word_list[:20]"
   ]
  },
  {
   "cell_type": "code",
   "execution_count": 119,
   "id": "5870d935-8953-4b46-be66-b223d3bc0372",
   "metadata": {},
   "outputs": [
    {
     "name": "stdout",
     "output_type": "stream",
     "text": [
      "Most similar wird to \"acm\" is \"amc\" with score 4.0.\n",
      "Most similar wird to \"oli\" is \"oil\" with score 4.0.\n",
      "Most similar wird to \"oli chance\" is \"change oil\" with score 9.0.\n",
      "Most similar wird to \"ifone\" is \"iphone\" with score 4.333333333333334.\n",
      "Most similar wird to \"cuple\" is \"couple\" with score 5.166666666666667.\n",
      "Most similar wird to \"message\" is \"massage\" with score 7.0.\n",
      "Most similar wird to \"valentyn\" is \"valentine's day\" with score 10.266666666666666.\n",
      "Most similar wird to \"pakr\" is \"parking\" with score 4.285714285714286.\n"
     ]
    }
   ],
   "source": [
    "def calculate_similarity(word1, word2):\n",
    "\n",
    "    counter1 = Counter(word1)\n",
    "    counter2 = Counter(word2)\n",
    "\n",
    "    common_letters = set(counter1.keys()) & set(counter2.keys())\n",
    "    similarity_score = sum(min(counter1[letter], counter2[letter]) for letter in common_letters)\n",
    "\n",
    "    length_factor = min(len(word1), len(word2)) / max(len(word1), len(word2))\n",
    "\n",
    "    initial_match_bonus = 0\n",
    "    for i in range(min(len(word1), len(word2))):\n",
    "        if word1[i] == word2[i]:\n",
    "            initial_match_bonus += 1\n",
    "        else:\n",
    "            break\n",
    "\n",
    "    total_similarity = (similarity_score * length_factor) + initial_match_bonus\n",
    "    return total_similarity\n",
    "\n",
    "\n",
    "# Test\n",
    "input_words = ['acm', 'oli', 'oli chance', 'ifone', 'cuple', 'message', 'valentyn', 'pakr' ]\n",
    "\n",
    "for input_word in input_words:\n",
    "\n",
    "    similarities = {word: calculate_similarity(input_word, word) for word in word_list}\n",
    "    most_similar_word = max(similarities, key=similarities.get)\n",
    "\n",
    "    print(f'Most similar wird to \"{input_word}\" is \"{most_similar_word}\" with score {similarities[most_similar_word]}.')\n"
   ]
  },
  {
   "cell_type": "code",
   "execution_count": null,
   "id": "9c6e13a5-e669-4022-9120-18433087b3ea",
   "metadata": {},
   "outputs": [],
   "source": []
  }
 ],
 "metadata": {
  "kernelspec": {
   "display_name": "Python 3 (ipykernel)",
   "language": "python",
   "name": "python3"
  },
  "language_info": {
   "codemirror_mode": {
    "name": "ipython",
    "version": 3
   },
   "file_extension": ".py",
   "mimetype": "text/x-python",
   "name": "python",
   "nbconvert_exporter": "python",
   "pygments_lexer": "ipython3",
   "version": "3.12.2"
  }
 },
 "nbformat": 4,
 "nbformat_minor": 5
}
