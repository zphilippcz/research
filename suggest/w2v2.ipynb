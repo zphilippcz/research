{
 "cells": [
  {
   "cell_type": "code",
   "execution_count": 2,
   "id": "28afd59c-7c97-4cbb-91f5-23acdc2a7de6",
   "metadata": {},
   "outputs": [
    {
     "name": "stdout",
     "output_type": "stream",
     "text": [
      "Vector for 'tattoo':\n",
      "[ 7.0879455e-03 -1.5676745e-03  7.9482300e-03 -9.4880834e-03\n",
      " -8.0290269e-03 -6.6418340e-03 -4.0027639e-03  4.9912822e-03\n",
      " -3.8140963e-03 -8.3216242e-03  8.4122075e-03 -3.7482004e-03\n",
      "  8.6084800e-03 -4.8949216e-03  3.9191474e-03  4.9213618e-03\n",
      "  2.3943051e-03 -2.8195318e-03  2.8482752e-03 -8.2578398e-03\n",
      " -2.7648378e-03 -2.5907897e-03  7.2495327e-03 -3.4629742e-03\n",
      " -6.5994509e-03  4.3407604e-03 -4.7587944e-04 -3.5960434e-03\n",
      "  6.8822065e-03  3.8722737e-03 -3.9002423e-03  7.7170960e-04\n",
      "  9.1433059e-03  7.7538155e-03  6.3618440e-03  4.6675475e-03\n",
      "  2.3855388e-03 -1.8422889e-03 -6.3711428e-03 -3.0134493e-04\n",
      " -1.5659815e-03 -5.7201460e-04 -6.2630735e-03  7.4339565e-03\n",
      " -6.5918276e-03 -7.2397161e-03 -2.7578557e-03 -1.5149752e-03\n",
      " -7.6351091e-03  6.9945224e-04 -5.3256634e-03 -1.2758531e-03\n",
      " -7.3659560e-03  1.9605593e-03  3.2739795e-03 -2.3045910e-05\n",
      " -5.4469183e-03 -1.7252917e-03  7.0861285e-03  3.7378075e-03\n",
      " -8.8821445e-03 -3.4136306e-03  2.3551076e-03  2.1379984e-03\n",
      " -9.4642034e-03  4.5715901e-03 -8.6569879e-03 -7.3864339e-03\n",
      "  3.4824461e-03 -3.4709761e-03  3.5656325e-03  8.8950647e-03\n",
      " -3.5741020e-03  9.3197878e-03  1.7115969e-03  9.8471334e-03\n",
      "  5.7056234e-03 -9.1489479e-03 -3.3281872e-03  6.5294825e-03\n",
      "  5.6009088e-03  8.7067280e-03  6.9266497e-03  8.0405194e-03\n",
      " -9.8230112e-03  4.2990781e-03 -5.0292155e-03  3.5122011e-03\n",
      "  6.0573975e-03  4.3923827e-03  7.5127534e-03  1.4981613e-03\n",
      " -1.2641218e-03  5.7683317e-03 -5.6375735e-03  3.9169478e-05\n",
      "  9.4569065e-03 -5.4822201e-03  3.8142127e-03 -8.1121642e-03]\n",
      "\n",
      "Similar words to 'tattoo':\n",
      "based: 0.1282\n",
      "vary: 0.1093\n",
      "required: 0.1089\n",
      "results: 0.1080\n",
      "typically: 0.1020\n"
     ]
    }
   ],
   "source": [
    "from gensim.models import Word2Vec\n",
    "\n",
    "# Sample sentence for training the Word2Vec model\n",
    "# it sample only!!!!! we need to train on own data based on deal and top frequfently use words\n",
    "sentences = [\n",
    "    [\"the\", \"number\", \"of\", \"sessions\", \"required\", \"to\", \"eliminate\", \"the\", \"tattoo\", \"can\", \"vary\", \"based\", \"on\", \"the\", \"tattoo’s\", \"age\", \"as\", \"well\", \"as\", \"specific\", \"density\", \"and\", \"color\", \"of\", \"the\", \"ink\", \"but\", \"results\", \"can\", \"typically\", \"be\", \"seen\", \"after\", \"three\", \"treatments\", \"spaced\", \"over\", \"time\"]\n",
    "]\n",
    "\n",
    "# Train the Word2Vec model\n",
    "model = Word2Vec(sentences, vector_size=100, window=5, min_count=1, workers=4)\n",
    "\n",
    "# Get the vector for the word \"tattoo\"\n",
    "tattoo_vector = model.wv['tattoo']\n",
    "print(\"Vector for 'tattoo':\")\n",
    "print(tattoo_vector)\n",
    "\n",
    "# Find and print similar words to \"tattoo\"\n",
    "similar_words = model.wv.most_similar('tattoo', topn=5)\n",
    "print(\"\\nSimilar words to 'tattoo':\")\n",
    "for word, similarity in similar_words:\n",
    "    print(f\"{word}: {similarity:.4f}\")"
   ]
  },
  {
   "cell_type": "code",
   "execution_count": null,
   "id": "159ae84b-2043-4bab-a602-393b038fc8a8",
   "metadata": {},
   "outputs": [],
   "source": []
  }
 ],
 "metadata": {
  "kernelspec": {
   "display_name": "Python 3 (ipykernel)",
   "language": "python",
   "name": "python3"
  },
  "language_info": {
   "codemirror_mode": {
    "name": "ipython",
    "version": 3
   },
   "file_extension": ".py",
   "mimetype": "text/x-python",
   "name": "python",
   "nbconvert_exporter": "python",
   "pygments_lexer": "ipython3",
   "version": "3.12.2"
  }
 },
 "nbformat": 4,
 "nbformat_minor": 5
}
