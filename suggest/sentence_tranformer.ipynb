{
 "cells": [
  {
   "cell_type": "code",
   "execution_count": null,
   "id": "79923b6c-d358-4688-b16f-298b60669493",
   "metadata": {},
   "outputs": [],
   "source": [
    "from sentence_transformers import SentenceTransformer, util\n",
    "\n",
    "# Učitavanje modela\n",
    "model = SentenceTransformer('all-MiniLM-L6-v2')"
   ]
  },
  {
   "cell_type": "code",
   "execution_count": 6,
   "id": "bef99af6-2100-4089-8c5c-a73278fff000",
   "metadata": {},
   "outputs": [
    {
     "name": "stdout",
     "output_type": "stream",
     "text": [
      "Input Sentences:\n",
      "0: How are you?\n",
      "1: How are you doing?\n",
      "2: It's a nice day today.\n",
      "3: The nice weather invites us outside!\n",
      "\n",
      "Formatted Similarity Matrix Output:\n",
      "Similarity between sentence 0 ('How are you?') and sentence 0 ('How are you?'): 1.0000\n",
      "Similarity between sentence 0 ('How are you?') and sentence 1 ('How are you doing?'): 0.8319\n",
      "Similarity between sentence 0 ('How are you?') and sentence 2 ('It's a nice day today.'): 0.3572\n",
      "Similarity between sentence 0 ('How are you?') and sentence 3 ('The nice weather invites us outside!'): 0.2160\n",
      "Similarity between sentence 1 ('How are you doing?') and sentence 0 ('How are you?'): 0.8319\n",
      "Similarity between sentence 1 ('How are you doing?') and sentence 1 ('How are you doing?'): 1.0000\n",
      "Similarity between sentence 1 ('How are you doing?') and sentence 2 ('It's a nice day today.'): 0.3465\n",
      "Similarity between sentence 1 ('How are you doing?') and sentence 3 ('The nice weather invites us outside!'): 0.1850\n",
      "Similarity between sentence 2 ('It's a nice day today.') and sentence 0 ('How are you?'): 0.3572\n",
      "Similarity between sentence 2 ('It's a nice day today.') and sentence 1 ('How are you doing?'): 0.3465\n",
      "Similarity between sentence 2 ('It's a nice day today.') and sentence 2 ('It's a nice day today.'): 1.0000\n",
      "Similarity between sentence 2 ('It's a nice day today.') and sentence 3 ('The nice weather invites us outside!'): 0.3836\n",
      "Similarity between sentence 3 ('The nice weather invites us outside!') and sentence 0 ('How are you?'): 0.2160\n",
      "Similarity between sentence 3 ('The nice weather invites us outside!') and sentence 1 ('How are you doing?'): 0.1850\n",
      "Similarity between sentence 3 ('The nice weather invites us outside!') and sentence 2 ('It's a nice day today.'): 0.3836\n",
      "Similarity between sentence 3 ('The nice weather invites us outside!') and sentence 3 ('The nice weather invites us outside!'): 1.0000\n",
      "\n",
      "Complete Similarity Matrix:\n",
      "[[1.0000007  0.8318872  0.35724175 0.21602067]\n",
      " [0.8318872  1.0000001  0.34651643 0.18503778]\n",
      " [0.35724175 0.34651643 0.9999996  0.38364062]\n",
      " [0.21602067 0.18503778 0.38364062 1.        ]]\n"
     ]
    }
   ],
   "source": [
    "sentences = [\n",
    "    \"How are you?\",\n",
    "    \"How are you doing?\",\n",
    "    \"It's a nice day today.\",\n",
    "    \"The nice weather invites us outside!\"\n",
    "]\n",
    "\n",
    "# Log the input sentences\n",
    "print(\"Input Sentences:\")\n",
    "for i, sentence in enumerate(sentences):\n",
    "    print(f\"{i}: {sentence}\")\n",
    "\n",
    "# Generate embeddings\n",
    "embeddings = model.encode(sentences)\n",
    "\n",
    "# Calculate similarity between sentences\n",
    "similarity_matrix = util.pytorch_cos_sim(embeddings, embeddings)\n",
    "\n",
    "# Convert the similarity matrix to a NumPy array for easier manipulation\n",
    "similarity_matrix_np = similarity_matrix.cpu().detach().numpy()\n",
    "\n",
    "# Log each element of the similarity matrix with corresponding sentences\n",
    "print(\"\\nFormatted Similarity Matrix Output:\")\n",
    "for i in range(similarity_matrix_np.shape[0]):\n",
    "    for j in range(similarity_matrix_np.shape[1]):\n",
    "        print(f\"Similarity between sentence {i} ('{sentences[i]}') and sentence {j} ('{sentences[j]}'): {similarity_matrix_np[i][j]:.4f}\")\n",
    "\n",
    "# Display the similarity matrix\n",
    "print(\"\\nComplete Similarity Matrix:\")\n",
    "print(similarity_matrix_np)"
   ]
  },
  {
   "cell_type": "code",
   "execution_count": null,
   "id": "fd775622-441e-4abb-9eb3-6c72c8a32fff",
   "metadata": {},
   "outputs": [],
   "source": []
  }
 ],
 "metadata": {
  "kernelspec": {
   "display_name": "Python 3 (ipykernel)",
   "language": "python",
   "name": "python3"
  },
  "language_info": {
   "codemirror_mode": {
    "name": "ipython",
    "version": 3
   },
   "file_extension": ".py",
   "mimetype": "text/x-python",
   "name": "python",
   "nbconvert_exporter": "python",
   "pygments_lexer": "ipython3",
   "version": "3.12.2"
  }
 },
 "nbformat": 4,
 "nbformat_minor": 5
}
