{
 "cells": [
  {
   "cell_type": "code",
   "execution_count": 11,
   "id": "79923b6c-d358-4688-b16f-298b60669493",
   "metadata": {},
   "outputs": [],
   "source": [
    "from sentence_transformers import SentenceTransformer, util\n",
    "model = SentenceTransformer('all-MiniLM-L6-v2')"
   ]
  },
  {
   "cell_type": "code",
   "execution_count": 12,
   "id": "bef99af6-2100-4089-8c5c-a73278fff000",
   "metadata": {},
   "outputs": [
    {
     "name": "stdout",
     "output_type": "stream",
     "text": [
      "0: Massage oil\n",
      "1: Massage spa\n",
      "2: Beauty & Spas Massage Swedish Massage\n",
      "3: Oil Change & Maintenance\n",
      "4: Auto Repair & Maintenance\n",
      "Input Sentences:\n",
      "\n",
      "Similarity Matrix Output:\n",
      "Similarity between sentence 0 ('Massage oil') and sentence 0 ('Massage oil'): 1.0000\n",
      "Similarity between sentence 0 ('Massage oil') and sentence 1 ('Massage spa'): 0.6789\n",
      "Similarity between sentence 0 ('Massage oil') and sentence 2 ('Beauty & Spas Massage Swedish Massage'): 0.5979\n",
      "Similarity between sentence 0 ('Massage oil') and sentence 3 ('Oil Change & Maintenance'): 0.3942\n",
      "Similarity between sentence 0 ('Massage oil') and sentence 4 ('Auto Repair & Maintenance'): 0.1346\n",
      "Similarity between sentence 1 ('Massage spa') and sentence 0 ('Massage oil'): 0.6789\n",
      "Similarity between sentence 1 ('Massage spa') and sentence 1 ('Massage spa'): 1.0000\n",
      "Similarity between sentence 1 ('Massage spa') and sentence 2 ('Beauty & Spas Massage Swedish Massage'): 0.7702\n",
      "Similarity between sentence 1 ('Massage spa') and sentence 3 ('Oil Change & Maintenance'): 0.1342\n",
      "Similarity between sentence 1 ('Massage spa') and sentence 4 ('Auto Repair & Maintenance'): 0.1186\n",
      "Similarity between sentence 2 ('Beauty & Spas Massage Swedish Massage') and sentence 0 ('Massage oil'): 0.5979\n",
      "Similarity between sentence 2 ('Beauty & Spas Massage Swedish Massage') and sentence 1 ('Massage spa'): 0.7702\n",
      "Similarity between sentence 2 ('Beauty & Spas Massage Swedish Massage') and sentence 2 ('Beauty & Spas Massage Swedish Massage'): 1.0000\n",
      "Similarity between sentence 2 ('Beauty & Spas Massage Swedish Massage') and sentence 3 ('Oil Change & Maintenance'): 0.1344\n",
      "Similarity between sentence 2 ('Beauty & Spas Massage Swedish Massage') and sentence 4 ('Auto Repair & Maintenance'): 0.0794\n",
      "Similarity between sentence 3 ('Oil Change & Maintenance') and sentence 0 ('Massage oil'): 0.3942\n",
      "Similarity between sentence 3 ('Oil Change & Maintenance') and sentence 1 ('Massage spa'): 0.1342\n",
      "Similarity between sentence 3 ('Oil Change & Maintenance') and sentence 2 ('Beauty & Spas Massage Swedish Massage'): 0.1344\n",
      "Similarity between sentence 3 ('Oil Change & Maintenance') and sentence 3 ('Oil Change & Maintenance'): 1.0000\n",
      "Similarity between sentence 3 ('Oil Change & Maintenance') and sentence 4 ('Auto Repair & Maintenance'): 0.5474\n",
      "Similarity between sentence 4 ('Auto Repair & Maintenance') and sentence 0 ('Massage oil'): 0.1346\n",
      "Similarity between sentence 4 ('Auto Repair & Maintenance') and sentence 1 ('Massage spa'): 0.1186\n",
      "Similarity between sentence 4 ('Auto Repair & Maintenance') and sentence 2 ('Beauty & Spas Massage Swedish Massage'): 0.0794\n",
      "Similarity between sentence 4 ('Auto Repair & Maintenance') and sentence 3 ('Oil Change & Maintenance'): 0.5474\n",
      "Similarity between sentence 4 ('Auto Repair & Maintenance') and sentence 4 ('Auto Repair & Maintenance'): 1.0000\n",
      "\n",
      "Similarity Matrix:\n",
      "[[1.0000002  0.6788996  0.59794295 0.39424843 0.13464649]\n",
      " [0.6788996  1.0000004  0.7701702  0.13422818 0.11856382]\n",
      " [0.59794295 0.7701702  1.0000006  0.13437755 0.07938695]\n",
      " [0.39424843 0.13422818 0.13437755 1.0000006  0.5473999 ]\n",
      " [0.1346465  0.11856382 0.07938691 0.5473997  1.        ]]\n"
     ]
    }
   ],
   "source": [
    "sentences = [\n",
    "    \"Massage oil\",\n",
    "    \"Massage spa\",\n",
    "    \"Beauty & Spas Massage Swedish Massage\",\n",
    "    \"Oil Change & Maintenance\",\n",
    "    \"Auto Repair & Maintenance\"\n",
    "]\n",
    "\n",
    "for i, sentence in enumerate(sentences):\n",
    "    print(f\"{i}: {sentence}\")\n",
    "\n",
    "# Word embeddings\n",
    "embeddings = model.encode(sentences)\n",
    "\n",
    "# Calculate similarity between sentences\n",
    "similarity_matrix = util.pytorch_cos_sim(embeddings, embeddings)\n",
    "\n",
    "# Convert the similarity matrix to a NumPy array for easier manipulation\n",
    "similarity_matrix_np = similarity_matrix.cpu().detach().numpy()\n",
    "\n",
    "print(\"Input Sentences:\")\n",
    "print(\"\\nSimilarity Matrix Output:\")\n",
    "for i in range(similarity_matrix_np.shape[0]):\n",
    "    for j in range(similarity_matrix_np.shape[1]):\n",
    "        print(f\"Similarity between sentence {i} ('{sentences[i]}') and sentence {j} ('{sentences[j]}'): {similarity_matrix_np[i][j]:.4f}\")\n",
    "\n",
    "# Display the similarity matrix\n",
    "print(\"\\nSimilarity Matrix:\")\n",
    "print(similarity_matrix_np)"
   ]
  },
  {
   "cell_type": "code",
   "execution_count": null,
   "id": "fd775622-441e-4abb-9eb3-6c72c8a32fff",
   "metadata": {},
   "outputs": [],
   "source": []
  }
 ],
 "metadata": {
  "kernelspec": {
   "display_name": "Python 3 (ipykernel)",
   "language": "python",
   "name": "python3"
  },
  "language_info": {
   "codemirror_mode": {
    "name": "ipython",
    "version": 3
   },
   "file_extension": ".py",
   "mimetype": "text/x-python",
   "name": "python",
   "nbconvert_exporter": "python",
   "pygments_lexer": "ipython3",
   "version": "3.12.2"
  }
 },
 "nbformat": 4,
 "nbformat_minor": 5
}
