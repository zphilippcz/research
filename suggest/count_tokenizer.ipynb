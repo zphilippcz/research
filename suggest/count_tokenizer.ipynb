{
 "cells": [
  {
   "cell_type": "code",
   "execution_count": 1,
   "id": "3729fce1-d7e5-416a-a858-7928f33ace28",
   "metadata": {},
   "outputs": [
    {
     "name": "stdout",
     "output_type": "stream",
     "text": [
      "Unigrams: ['in' 'massage' 'new' 'spa' 'york']\n",
      "Bigrams: ['in new' 'massage spa' 'new york' 'spa in']\n",
      "Trigrams: ['in new york' 'massage spa in' 'spa in new']\n"
     ]
    }
   ],
   "source": [
    "from sklearn.feature_extraction.text import CountVectorizer\n",
    "\n",
    "text = [\"massage spa in new york\"]\n",
    "\n",
    "vectorizer_unigram = CountVectorizer(ngram_range=(1, 1))\n",
    "X_unigram = vectorizer_unigram.fit_transform(text)\n",
    "print(\"Unigrams:\", vectorizer_unigram.get_feature_names_out())\n",
    "\n",
    "vectorizer_bigram = CountVectorizer(ngram_range=(2, 2))\n",
    "X_bigram = vectorizer_bigram.fit_transform(text)\n",
    "print(\"Bigrams:\", vectorizer_bigram.get_feature_names_out())\n",
    "\n",
    "vectorizer_trigram = CountVectorizer(ngram_range=(3, 3))\n",
    "X_trigram = vectorizer_trigram.fit_transform(text)\n",
    "print(\"Trigrams:\", vectorizer_trigram.get_feature_names_out())"
   ]
  }
 ],
 "metadata": {
  "kernelspec": {
   "display_name": "Python 3 (ipykernel)",
   "language": "python",
   "name": "python3"
  },
  "language_info": {
   "codemirror_mode": {
    "name": "ipython",
    "version": 3
   },
   "file_extension": ".py",
   "mimetype": "text/x-python",
   "name": "python",
   "nbconvert_exporter": "python",
   "pygments_lexer": "ipython3",
   "version": "3.12.2"
  }
 },
 "nbformat": 4,
 "nbformat_minor": 5
}
