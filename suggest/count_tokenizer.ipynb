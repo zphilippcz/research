{
 "cells": [
  {
   "cell_type": "code",
   "execution_count": 15,
   "id": "3729fce1-d7e5-416a-a858-7928f33ace28",
   "metadata": {},
   "outputs": [
    {
     "name": "stdout",
     "output_type": "stream",
     "text": [
      "Unigrams: ['massage' 'new' 'spa' 'york']\n",
      "Bigrams: ['massage spa' 'new york' 'spa new']\n",
      "Trigrams: ['massage spa new' 'spa new york']\n"
     ]
    }
   ],
   "source": [
    "from sklearn.feature_extraction.text import CountVectorizer\n",
    "import re\n",
    "\n",
    "prepositions_and_conjunctions = [\n",
    "    \"about\", \"above\", \"across\", \"after\", \"against\", \"along\", \"among\", \"around\", \"at\",\n",
    "    \"before\", \"behind\", \"below\", \"beneath\", \"beside\", \"between\", \"beyond\", \"by\",\n",
    "    \"during\", \"for\", \"from\", \"in\", \"inside\", \"into\", \"near\", \"of\", \"off\", \"on\",\n",
    "    \"out\", \"outside\", \"over\", \"through\", \"throughout\", \"to\", \"toward\", \"under\",\n",
    "    \"until\", \"up\", \"with\", \"within\", \"without\", \"and\", \"but\", \"or\", \"for\", \"nor\",\n",
    "    \"so\", \"yet\", \"although\", \"because\", \"as\", \"since\", \"unless\", \"while\", \"when\",\n",
    "    \"where\", \"after\", \"before\"\n",
    "]\n",
    "pattern = r'\\b(?:' + '|'.join(prepositions_and_conjunctions) + r')\\b'\n",
    "\n",
    "def remove_prepositions_and_conjunctions(text):\n",
    "    cleaned_text = re.sub(pattern, '', text, flags=re.IGNORECASE)\n",
    "    cleaned_text = re.sub(r'\\d+', '', cleaned_text)\n",
    "    return re.sub(r'\\s+', ' ', cleaned_text).strip()\n",
    "\n",
    "query = \"massage spa in new york\"\n",
    "text = [remove_prepositions_and_conjunctions(query)]\n",
    "\n",
    "vectorizer_unigram = CountVectorizer(ngram_range=(1, 1))\n",
    "X_unigram = vectorizer_unigram.fit_transform(text)\n",
    "print(\"Unigrams:\", vectorizer_unigram.get_feature_names_out())\n",
    "\n",
    "vectorizer_bigram = CountVectorizer(ngram_range=(2, 2))\n",
    "X_bigram = vectorizer_bigram.fit_transform(text)\n",
    "print(\"Bigrams:\", vectorizer_bigram.get_feature_names_out())\n",
    "\n",
    "vectorizer_trigram = CountVectorizer(ngram_range=(3, 3))\n",
    "X_trigram = vectorizer_trigram.fit_transform(text)\n",
    "print(\"Trigrams:\", vectorizer_trigram.get_feature_names_out())"
   ]
  },
  {
   "cell_type": "code",
   "execution_count": null,
   "id": "1a2c8994-ca40-4057-904e-b20d3ed62d78",
   "metadata": {},
   "outputs": [],
   "source": []
  }
 ],
 "metadata": {
  "kernelspec": {
   "display_name": "Python 3 (ipykernel)",
   "language": "python",
   "name": "python3"
  },
  "language_info": {
   "codemirror_mode": {
    "name": "ipython",
    "version": 3
   },
   "file_extension": ".py",
   "mimetype": "text/x-python",
   "name": "python",
   "nbconvert_exporter": "python",
   "pygments_lexer": "ipython3",
   "version": "3.12.2"
  }
 },
 "nbformat": 4,
 "nbformat_minor": 5
}
