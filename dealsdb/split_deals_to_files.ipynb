{
 "cells": [
  {
   "cell_type": "code",
   "execution_count": 1,
   "id": "df9cac50-d691-48db-8c80-2353df703dc5",
   "metadata": {},
   "outputs": [],
   "source": [
    "import json"
   ]
  },
  {
   "cell_type": "code",
   "execution_count": 2,
   "id": "57e62cdd-56d0-4f63-9c1d-e50248a5b9e9",
   "metadata": {},
   "outputs": [
    {
     "name": "stdout",
     "output_type": "stream",
     "text": [
      "ba211de6-be50-4cfd-935d-d4853823c7b0\n",
      "f1db8c1a-b07f-4182-9185-bfd4f6a4da62\n",
      "0d8d6f41-d51e-46ed-bf81-ed7e1e148f45\n",
      "3b8bf69c-e0e8-4ce1-8abc-fd5a3ed180cf\n",
      "fc1a6cb9-b468-4ee3-b09c-3e07cecb2b68\n",
      "e6d65511-ff1b-451a-a509-48fdf701e7c3\n",
      "dbecf581-e445-4e05-a94a-662c9e0a3a81\n",
      "2cc45883-ccf4-408f-9a82-0e33324d4c0c\n",
      "65d68516-67b9-4a13-91b5-38e9d5aa981f\n",
      "0ad3097b-00bb-46a0-8b2b-d17a7b1fd81b\n",
      "5ba90b59-3bcd-44d9-b245-0e5cdf508969\n",
      "533e25d3-9f3a-4c4b-b03b-fc909705ebf8\n",
      "c8b3d4f3-b119-481e-8f8a-0d7dd4b96261\n",
      "f311ff91-0ed7-4844-8dd5-18d16c23f127\n",
      "f3159d74-9443-49f6-aac4-0a2554996e93\n",
      "36a56f8b-0e35-46f6-a72d-0266f508f35f\n",
      "92ab943c-7ae7-482d-ace2-6a2d77cce132\n",
      "133bde41-c4d9-4932-920e-20c20dc86e64\n",
      "9fa1b14e-447f-4d57-b083-137d7fb256e6\n",
      "4327b8fb-68a2-4418-a78c-ba432ee7155a\n",
      "f3160516-ad78-450b-b5ac-793a9a302153\n"
     ]
    }
   ],
   "source": [
    "limit = 1\n",
    "i = 0\n",
    "with open('deals_data/sem_booster_US.json') as f:\n",
    "    for line in f:\n",
    "        d = json.loads(line)\n",
    "        i = i + 1 \n",
    "        print (d['deal_option_id'])\n",
    "        if (i > 20):\n",
    "            break"
   ]
  },
  {
   "cell_type": "code",
   "execution_count": null,
   "id": "94e5baee-c3ff-4716-9625-41aa7cb7c166",
   "metadata": {},
   "outputs": [],
   "source": [
    "d"
   ]
  },
  {
   "cell_type": "code",
   "execution_count": 6,
   "id": "fea6a34e-a3f2-4631-8409-363f91386d79",
   "metadata": {},
   "outputs": [],
   "source": [
    "import json\n",
    "import os\n",
    "\n",
    "output_dir = 'deals_data/options'\n",
    "os.makedirs(output_dir, exist_ok=True)\n",
    "\n",
    "with open('deals_data/sem_booster_US.json') as f:\n",
    "    for line in f:\n",
    "        data = json.loads(line)\n",
    "        \n",
    "        output_file = '%s/%s_%s.json' % (output_dir, data['deal_id'], data['deal_option_id'])\n",
    "        #print (data['deal_uuid'])\n",
    "        \n",
    "        #print (output_file)  \n",
    "        with open(output_file, 'w') as output_f:\n",
    "            json.dump(data, output_f)"
   ]
  },
  {
   "cell_type": "code",
   "execution_count": 13,
   "id": "7ac4413e-035f-4ccd-bc1e-0dcef5bc2b8b",
   "metadata": {},
   "outputs": [
    {
     "data": {
      "text/plain": [
       "'96565d83-7837-4734-a1dc-88bca8c0a3a3'"
      ]
     },
     "execution_count": 13,
     "metadata": {},
     "output_type": "execute_result"
    }
   ],
   "source": [
    "d['deal_uuid']"
   ]
  }
 ],
 "metadata": {
  "kernelspec": {
   "display_name": "Python 3 (ipykernel)",
   "language": "python",
   "name": "python3"
  },
  "language_info": {
   "codemirror_mode": {
    "name": "ipython",
    "version": 3
   },
   "file_extension": ".py",
   "mimetype": "text/x-python",
   "name": "python",
   "nbconvert_exporter": "python",
   "pygments_lexer": "ipython3",
   "version": "3.12.2"
  }
 },
 "nbformat": 4,
 "nbformat_minor": 5
}
