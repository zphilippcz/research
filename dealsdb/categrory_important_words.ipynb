{
 "cells": [
  {
   "cell_type": "code",
   "execution_count": 6,
   "id": "ee7ec42e-a230-419a-8f32-ffa4af07bfcf",
   "metadata": {},
   "outputs": [
    {
     "name": "stderr",
     "output_type": "stream",
     "text": [
      "/Users/zphilipp/miniconda3/lib/python3.12/site-packages/transformers/tokenization_utils_base.py:1601: FutureWarning: `clean_up_tokenization_spaces` was not set. It will be set to `True` by default. This behavior will be depracted in transformers v4.45, and will be then set to `False` by default. For more details check this issue: https://github.com/huggingface/transformers/issues/31884\n",
      "  warnings.warn(\n"
     ]
    }
   ],
   "source": [
    "import pandas as pd\n",
    "import numpy as np\n",
    "import sqlite3\n",
    "from sklearn.feature_extraction.text import TfidfVectorizer\n",
    "import time\n",
    "import re\n",
    "from sentence_transformers import SentenceTransformer, util\n",
    "model = SentenceTransformer('all-MiniLM-L6-v2')\n",
    "\n",
    "pd.set_option('display.max_rows', None)\n",
    "pd.set_option('display.max_colwidth', None)\n",
    "\n",
    "db_path = '/Users/zphilipp/git/research/dealsdb/deals_db1.db'\n",
    "\n",
    "prepositions_and_conjunctions = [\n",
    "    \"about\", \"above\", \"across\", \"after\", \"against\", \"along\", \"among\", \"around\", \"at\",\n",
    "    \"before\", \"behind\", \"below\", \"beneath\", \"beside\", \"between\", \"beyond\", \"by\",\n",
    "    \"during\", \"for\", \"from\", \"in\", \"inside\", \"into\", \"near\", \"of\", \"off\", \"on\",\n",
    "    \"out\", \"outside\", \"over\", \"through\", \"throughout\", \"to\", \"toward\", \"under\",\n",
    "    \"until\", \"up\", \"with\", \"within\", \"without\", \"and\", \"but\", \"or\", \"for\", \"nor\",\n",
    "    \"so\", \"yet\", \"although\", \"because\", \"as\", \"since\", \"unless\", \"while\", \"when\",\n",
    "    \"where\", \"after\", \"before\", \"the\", \"a\"\n",
    "]\n",
    "pattern = r'\\b(?:' + '|'.join(prepositions_and_conjunctions) + r')\\b'\n",
    "\n",
    "def remove_prepositions_and_conjunctions(text):\n",
    "    cleaned_text = re.sub(pattern, '', text, flags=re.IGNORECASE)\n",
    "    cleaned_text = re.sub(r'\\d+', '', cleaned_text)\n",
    "    return re.sub(r'\\s+', ' ', cleaned_text).strip()\n",
    "\n",
    "# Get Words for embeddings\n",
    "def get_words_for_embeddings(row):\n",
    "    words = []\n",
    "    for item in row:\n",
    "        words.append(item[0])\n",
    "    return words"
   ]
  },
  {
   "cell_type": "code",
   "execution_count": 2,
   "id": "a6d888dd-6d54-4ca9-bae8-8397a0dd73cf",
   "metadata": {},
   "outputs": [],
   "source": [
    "conn = sqlite3.connect(db_path)\n",
    "cursor = conn.cursor()\n",
    "\n",
    "sql_query = \"\"\"\n",
    "    SELECT\n",
    "        d.customer_category_id,\n",
    "        c.name,\n",
    "        GROUP_CONCAT(d.title_general, ',') || ' ' || GROUP_CONCAT(o.title, ',') AS text\n",
    "    FROM deals d\n",
    "        JOIN customer_taxonomy c ON (d.customer_category_id=c.id)\n",
    "        LEFT JOIN options o ON (d.deal_id=o.deal_id)\n",
    "    GROUP BY customer_category_id\n",
    "    -- LIMIT 100\n",
    "\"\"\"\n",
    "\n",
    "# Execute the query and load the data into a DataFrame\n",
    "df = pd.read_sql_query(sql_query, conn)\n",
    "conn.close()"
   ]
  },
  {
   "cell_type": "code",
   "execution_count": 3,
   "id": "c6416ef0-c98d-432e-9ace-a532814f828f",
   "metadata": {},
   "outputs": [],
   "source": [
    "def get_important_words(document):\n",
    "    document = remove_prepositions_and_conjunctions(document)\n",
    "    document = [document]\n",
    "\n",
    "    vectorizer = TfidfVectorizer()\n",
    "    tfidf_matrix = vectorizer.fit_transform(document)\n",
    "\n",
    "    feature_names = vectorizer.get_feature_names_out()\n",
    "    first_document_vector = tfidf_matrix[0]\n",
    "    important_words = sorted(\n",
    "        [(feature_names[i], first_document_vector[0, i]) for i in first_document_vector.nonzero()[1]],\n",
    "        key=lambda x: x[1], reverse=True\n",
    "    )\n",
    "    return important_words"
   ]
  },
  {
   "cell_type": "code",
   "execution_count": 4,
   "id": "7fca7fd3-9136-4ebc-8835-619bdd3d0153",
   "metadata": {},
   "outputs": [],
   "source": [
    "df['important_words'] = df['text'].apply(get_important_words)\n",
    "df = df[['name', 'important_words']]\n",
    "df['words'] = df['important_words'].apply(get_words_for_embeddings)\n",
    "df['embedings'] = df['words'].apply(model.encode)"
   ]
  },
  {
   "cell_type": "code",
   "execution_count": 8,
   "id": "4534a473-e890-4a5c-9c31-0600ee3e06fa",
   "metadata": {},
   "outputs": [
    {
     "name": "stdout",
     "output_type": "stream",
     "text": [
      "Category: Shave, Euclidean distance: 1.050406813621521\n",
      "Category: Shaving & Grooming, Euclidean distance: 1.0827836990356445\n",
      "Category: Color & Highlights, Euclidean distance: 1.0841929912567139\n",
      "Category: Scalp & Hair Treatments, Euclidean distance: 1.0847097635269165\n",
      "Category: Hair & Styling, Euclidean distance: 1.0879900455474854\n",
      "Category: Hair Care, Euclidean distance: 1.1002392768859863\n",
      "Category: Textured Hair Care, Euclidean distance: 1.1008548736572266\n",
      "Category: Upper Lip Wax, Euclidean distance: 1.1096110343933105\n",
      "Category: Pet Supplies, Euclidean distance: 1.1236134767532349\n",
      "Category: Skin Care Tools, Euclidean distance: 1.128180980682373\n"
     ]
    }
   ],
   "source": [
    "# here is the main issue\n",
    "# Query embeding online\n",
    "query = np.array(model.encode(['hair', 'cut']))\n",
    "\n",
    "metrics = []\n",
    "\n",
    "for index, row in df.iterrows():\n",
    "    category = np.array(row['embedings'])  \n",
    "    # embeding AVG \n",
    "    category_mean = np.mean(category, axis=0)\n",
    "\n",
    "    # cosine similarity\n",
    "    dot_product = np.dot(category_mean, query.T)\n",
    "    norm_category = np.linalg.norm(category_mean)\n",
    "    norm_query = np.linalg.norm(query)\n",
    "\n",
    "    if norm_category == 0 or norm_query == 0:\n",
    "        cosine_similarity = 0\n",
    "    else:\n",
    "        cosine_similarity = dot_product / (norm_category * norm_query)\n",
    "\n",
    "    cosine_distance = 1 - cosine_similarity\n",
    "    euclidean_distance = np.linalg.norm(category_mean - query)\n",
    "\n",
    "    metrics.append({\n",
    "        'name': row['name'], \n",
    "        'cosine_distance': cosine_distance,\n",
    "        'euclidean_distance': euclidean_distance\n",
    "    })\n",
    "    \n",
    "# to dataframe\n",
    "metrics_df = pd.DataFrame(metrics)\n",
    "\n",
    "# top 10 closest embedings\n",
    "closest_embeddings = metrics_df.nsmallest(10, 'euclidean_distance')\n",
    "for index, row in closest_embeddings.sort_values(['euclidean_distance'], ascending = True).iterrows():\n",
    "    print(f\"Category: {row['name']}, Euclidean distance: {row['euclidean_distance']}\")"
   ]
  },
  {
   "cell_type": "code",
   "execution_count": null,
   "id": "3cf363c9-6937-48c8-8caf-a4e13667c85d",
   "metadata": {},
   "outputs": [],
   "source": []
  }
 ],
 "metadata": {
  "kernelspec": {
   "display_name": "Python 3 (ipykernel)",
   "language": "python",
   "name": "python3"
  },
  "language_info": {
   "codemirror_mode": {
    "name": "ipython",
    "version": 3
   },
   "file_extension": ".py",
   "mimetype": "text/x-python",
   "name": "python",
   "nbconvert_exporter": "python",
   "pygments_lexer": "ipython3",
   "version": "3.12.2"
  }
 },
 "nbformat": 4,
 "nbformat_minor": 5
}
