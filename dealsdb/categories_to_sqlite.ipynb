{
 "cells": [
  {
   "cell_type": "code",
   "execution_count": 2,
   "id": "5616d7de-a745-49cc-a4a1-78fc50451999",
   "metadata": {},
   "outputs": [],
   "source": [
    "# Categories to sqlite\n",
    "# wget https://github.groupondev.com/Mobile-Next/next-pwa-app/blob/main/libs/static/src/taxonomy/categories/data/generated/production/categories.json\n",
    "# \n",
    "\n",
    "import json\n",
    "import pandas as pd\n",
    "import sqlite3"
   ]
  },
  {
   "cell_type": "code",
   "execution_count": 3,
   "id": "5233a3eb-8995-41ab-ad29-1eaf1d3900cc",
   "metadata": {},
   "outputs": [],
   "source": [
    "with open(\"/Users/zphilipp/notebooks/category_data/categories.json\", 'r') as f:\n",
    "    data = json.load(f)\n",
    "\n",
    "\n",
    "conn = sqlite3.connect('/Users/zphilipp/notebooks/deals_db.db')\n",
    "c = conn.cursor()\n",
    "c.execute(\"\"\"\n",
    "CREATE TABLE IF NOT EXISTS \"category\" (\n",
    "\"id\" TEXT PRIMARY KEY,\n",
    "\"slug\" TEXT,\n",
    "\"name\" TEXT,\n",
    "\"icon_url\" TEXT,\n",
    "\"parent_id\" TEXT,\n",
    "\"children\" TEXT\n",
    ")\n",
    "\"\"\")\n",
    "c.execute(\"DELETE FROM category\")\n",
    "conn.commit()\n",
    "\n",
    "for k, v in data[\"en_US\"].items():\n",
    "    #if k == \"86ac259e-033c-4da9-ad2d-f29cd0269ce3\":\n",
    "    #    print (v)\n",
    "    c.execute(\"\"\"\n",
    "        INSERT INTO category (id, slug, name, icon_url, parent_id, children)\n",
    "        VALUES (?, ?, ?, ?, ?, ?)\n",
    "    \"\"\", (v[\"guid\"], v[\"slug\"], v[\"friendlyName\"], v[\"iconUrl\"], v[\"parent\"], str(v[\"children\"]),))\n",
    "    \n",
    "conn.commit()\n",
    "conn.close()"
   ]
  },
  {
   "cell_type": "code",
   "execution_count": null,
   "id": "95ffb8c6-7910-4bc1-b194-61356bcb7abd",
   "metadata": {},
   "outputs": [],
   "source": []
  }
 ],
 "metadata": {
  "kernelspec": {
   "display_name": "Python 3 (ipykernel)",
   "language": "python",
   "name": "python3"
  },
  "language_info": {
   "codemirror_mode": {
    "name": "ipython",
    "version": 3
   },
   "file_extension": ".py",
   "mimetype": "text/x-python",
   "name": "python",
   "nbconvert_exporter": "python",
   "pygments_lexer": "ipython3",
   "version": "3.12.2"
  }
 },
 "nbformat": 4,
 "nbformat_minor": 5
}
