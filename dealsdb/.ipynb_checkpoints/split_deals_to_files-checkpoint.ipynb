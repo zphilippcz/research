{
 "cells": [
  {
   "cell_type": "code",
   "execution_count": 15,
   "id": "df9cac50-d691-48db-8c80-2353df703dc5",
   "metadata": {},
   "outputs": [],
   "source": [
    "import json"
   ]
  },
  {
   "cell_type": "code",
   "execution_count": 27,
   "id": "57e62cdd-56d0-4f63-9c1d-e50248a5b9e9",
   "metadata": {},
   "outputs": [
    {
     "name": "stdout",
     "output_type": "stream",
     "text": [
      "0fe886df-d47a-4f87-82af-e3b059f2df27\n",
      "6bf4be7a-5fcc-4ae3-85ed-5184aac59189\n",
      "96565d83-7837-4734-a1dc-88bca8c0a3a3\n",
      "af9bee98-802e-408d-ab99-1a60b846edc0\n",
      "c2d62be7-d682-4490-bed3-e660ddfd0869\n",
      "bd09aa3e-0dad-4fee-bd58-eef561ad0c73\n",
      "8b23ff0b-110e-460d-9502-f8f40b31f725\n",
      "776847ec-0846-4bb9-a92c-d19dc43be4ee\n",
      "76f4a436-e1c0-43ac-a241-7959dbb2c8f5\n",
      "5edb238d-18d8-43e8-bef6-15690383f0a7\n",
      "1a47ef25-3e10-460a-a2a3-50c1334b6b96\n",
      "07393af2-0839-4b90-9fea-05848ccf48a3\n",
      "db93bb02-7a5f-4ae5-b714-c71f314add63\n",
      "77e79ff3-5c0f-4769-bcf8-8c21559cfaa2\n",
      "f3748ffa-51d1-4df8-b77f-6e1c2be6916b\n",
      "94c50645-bebe-42b0-8051-f4ddccf7cba4\n",
      "3f8bef54-3fad-4286-a072-8edaaea9d8cf\n",
      "c5c42654-8a14-4033-92ed-dd116756be32\n",
      "a2a52a4f-7d5a-4ace-a566-3c680b4249c3\n",
      "03e1f81e-d247-49e7-8902-981c36bf9e6b\n",
      "ea5bee1e-87f8-4c41-9adb-71c2b59cb7fe\n"
     ]
    }
   ],
   "source": [
    "limit = 1\n",
    "i = 0\n",
    "with open('deals_data/sem_booster_US.json') as f:\n",
    "    for line in f:\n",
    "        d = json.loads(line)\n",
    "        i = i + 1 \n",
    "        print (d['deal_uuid'])\n",
    "        if (i > 20):\n",
    "            break"
   ]
  },
  {
   "cell_type": "code",
   "execution_count": null,
   "id": "94e5baee-c3ff-4716-9625-41aa7cb7c166",
   "metadata": {},
   "outputs": [],
   "source": [
    "d"
   ]
  },
  {
   "cell_type": "code",
   "execution_count": 29,
   "id": "fea6a34e-a3f2-4631-8409-363f91386d79",
   "metadata": {},
   "outputs": [],
   "source": [
    "import json\n",
    "import os\n",
    "\n",
    "# Zajistíme, že složka pro uložení existuje\n",
    "output_dir = 'deals_data/saved_deals'\n",
    "os.makedirs(output_dir, exist_ok=True)\n",
    "\n",
    "# Čtení původního JSON souboru po řádcích\n",
    "with open('deals_data/sem_booster_US.json') as f:\n",
    "    for line in f:\n",
    "        # Načtení každého řádku jako JSON\n",
    "        data = json.loads(line)\n",
    "        \n",
    "        # Vytvoření názvu souboru\n",
    "        output_file = '%s/deal_%s.json' % (output_dir, data['deal_uuid'])\n",
    "        #print (data['deal_uuid'])\n",
    "        \n",
    "        #print (output_file)  \n",
    "        # Uložení dat do samostatného souboru\n",
    "        with open(output_file, 'w') as output_f:\n",
    "            json.dump(data, output_f)\n",
    "\n",
    "#print('Data byla úspěšně uložena do samostatných souborů.')"
   ]
  },
  {
   "cell_type": "code",
   "execution_count": 13,
   "id": "7ac4413e-035f-4ccd-bc1e-0dcef5bc2b8b",
   "metadata": {},
   "outputs": [
    {
     "data": {
      "text/plain": [
       "'96565d83-7837-4734-a1dc-88bca8c0a3a3'"
      ]
     },
     "execution_count": 13,
     "metadata": {},
     "output_type": "execute_result"
    }
   ],
   "source": [
    "d['deal_uuid']"
   ]
  }
 ],
 "metadata": {
  "kernelspec": {
   "display_name": "Python 3 (ipykernel)",
   "language": "python",
   "name": "python3"
  },
  "language_info": {
   "codemirror_mode": {
    "name": "ipython",
    "version": 3
   },
   "file_extension": ".py",
   "mimetype": "text/x-python",
   "name": "python",
   "nbconvert_exporter": "python",
   "pygments_lexer": "ipython3",
   "version": "3.12.2"
  }
 },
 "nbformat": 4,
 "nbformat_minor": 5
}
