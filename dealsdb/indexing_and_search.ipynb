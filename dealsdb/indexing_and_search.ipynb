{
 "cells": [
  {
   "cell_type": "code",
   "execution_count": 1,
   "id": "ee7ec42e-a230-419a-8f32-ffa4af07bfcf",
   "metadata": {},
   "outputs": [],
   "source": [
    "from elasticsearch import Elasticsearch\n",
    "import pandas as pd\n",
    "import sqlite3\n",
    "from datetime import datetime, timezone\n",
    "from IPython.display import display, HTML\n",
    "import time\n",
    "import re\n",
    "\n",
    "pd.set_option('display.max_rows', None)\n",
    "\n",
    "db_path = '/Users/zphilipp/git/research/dealsdb/deals_db1.db'\n",
    "index_name = 'deals' "
   ]
  },
  {
   "cell_type": "code",
   "execution_count": 2,
   "id": "068d7b19-ccec-40b2-8be2-6802bc499c94",
   "metadata": {},
   "outputs": [],
   "source": [
    "es = Elasticsearch(\n",
    "    ['https://localhost:9200'],\n",
    "    basic_auth=('elastic', 'iEzoDQe8OWWl133BTsyq'),\n",
    "    ca_certs='/Users/zphilipp/http_ca.crt'\n",
    ")\n",
    "\n",
    "def clean_text(text):\n",
    "    if text is None:\n",
    "        return ''\n",
    "    # HTML\n",
    "    text = re.sub(r'<[^>]+>', '', text)\n",
    "    # clean all except letters\n",
    "    #text = re.sub(r'[^a-zA-Zá-žÁ-Ž0-9\\s]', '', text)\n",
    "    # remove more spaces\n",
    "    text = re.sub(r'\\s+', ' ', text).strip().lower()\n",
    "    #text = text.replace([\"the\", \"on\", ])\n",
    "    return text"
   ]
  },
  {
   "cell_type": "code",
   "execution_count": 3,
   "id": "4349276d-93c0-439e-ac0f-362df6d05aab",
   "metadata": {},
   "outputs": [
    {
     "data": {
      "text/plain": [
       "ObjectApiResponse({'name': 'bf934ce3043f', 'cluster_name': 'docker-cluster', 'cluster_uuid': 'c7G7Vpm4SOe8Qz5G_y0Otg', 'version': {'number': '8.17.1', 'build_flavor': 'default', 'build_type': 'docker', 'build_hash': 'd4b391d925c31d262eb767b8b2db8f398103f909', 'build_date': '2025-01-10T10:08:26.972230187Z', 'build_snapshot': False, 'lucene_version': '9.12.0', 'minimum_wire_compatibility_version': '7.17.0', 'minimum_index_compatibility_version': '7.0.0'}, 'tagline': 'You Know, for Search'})"
      ]
     },
     "execution_count": 3,
     "metadata": {},
     "output_type": "execute_result"
    }
   ],
   "source": [
    "es.info()"
   ]
  },
  {
   "cell_type": "code",
   "execution_count": 4,
   "id": "2b636211-9b05-47ab-b483-4909343062be",
   "metadata": {},
   "outputs": [
    {
     "data": {
      "text/plain": [
       "ObjectApiResponse({'acknowledged': True, 'shards_acknowledged': True, 'index': 'deals'})"
      ]
     },
     "execution_count": 4,
     "metadata": {},
     "output_type": "execute_result"
    }
   ],
   "source": [
    "if es.indices.exists(index=index_name):\n",
    "    es.indices.delete(index=index_name)\n",
    "else:\n",
    "    pass\n",
    "    \n",
    "index_settings = {\n",
    "    'settings': {\n",
    "        'number_of_shards': 1,\n",
    "        'number_of_replicas': 1 ,\n",
    "        \"max_docvalue_fields_search\": 200000\n",
    "    },\n",
    "    'mappings': {\n",
    "        'properties': {\n",
    "            'id': {'type': 'text'},\n",
    "            'title_general': {'type': 'text'},\n",
    "            'option_titles': {'type': 'text'},\n",
    "            'category' : {'type' : 'text'},\n",
    "            'timestamp': {'type': 'date'}\n",
    "        }\n",
    "    }\n",
    "}\n",
    "es.indices.create(index=index_name, body=index_settings)"
   ]
  },
  {
   "cell_type": "code",
   "execution_count": 5,
   "id": "296b41a7-4659-4d9e-a1a7-43f53adad68e",
   "metadata": {},
   "outputs": [
    {
     "data": {
      "text/plain": [
       "ObjectApiResponse({'took': 3, 'timed_out': False, '_shards': {'total': 1, 'successful': 1, 'skipped': 0, 'failed': 0}, 'hits': {'total': {'value': 0, 'relation': 'eq'}, 'max_score': None, 'hits': []}})"
      ]
     },
     "execution_count": 5,
     "metadata": {},
     "output_type": "execute_result"
    }
   ],
   "source": [
    "index_info = es.indices.get(index=index_name)\n",
    "index_mapping = index_info[index_name]['mappings']\n",
    "mapping_df = pd.json_normalize(index_mapping['properties'])\n",
    "mapping_df\n",
    "\n",
    "search_query = {\n",
    "  \"size\": 0\n",
    "}\n",
    "response = es.search(index=index_name, body=search_query)\n",
    "response"
   ]
  },
  {
   "cell_type": "code",
   "execution_count": 6,
   "id": "a6d888dd-6d54-4ca9-bae8-8397a0dd73cf",
   "metadata": {},
   "outputs": [
    {
     "name": "stdout",
     "output_type": "stream",
     "text": [
      "93044\n",
      "105789\n"
     ]
    }
   ],
   "source": [
    "conn = sqlite3.connect(db_path)\n",
    "cursor = conn.cursor()\n",
    "\n",
    "def fetch_tree(item_id):\n",
    "    \"\"\"Funkce pro načtení stromu pro daný item_id.\"\"\"\n",
    "    # Načtěte vlastnosti aktuální položky\n",
    "    cursor.execute(\"SELECT parent_id, name FROM category WHERE id = ?\", (item_id,))\n",
    "    item = cursor.fetchone()\n",
    "    #print(item)\n",
    "    if not item:\n",
    "        return None\n",
    "    \n",
    "    # Vytvoření uzlu\n",
    "    return {\n",
    "        'value': item[1],\n",
    "        'parent_id': item[0]\n",
    "    }\n",
    "\n",
    "def get_taxonomy_path(id):\n",
    "\n",
    "    data = fetch_tree(id)\n",
    "    category_string = \"\"\n",
    "    while data is not None:    \n",
    "        data = fetch_tree(data[\"parent_id\"])\n",
    "        try:\n",
    "            category_string = data[\"value\"] + \" / \" + category_string\n",
    "        except TypeError as e:\n",
    "            #print (data)\n",
    "            break\n",
    "    \n",
    "    return category_string[:-2]\n",
    "\n",
    "\n",
    "sql_query = \"\"\"\n",
    "    SELECT\n",
    "        d.deal_id,\n",
    "        MIN(d.title_general) as title_general,\n",
    "        GROUP_CONCAT(o.title, ',') AS option_titles,\n",
    "        MIN(d.customer_category_id) as category_id\n",
    "    FROM deals d\n",
    "        LEFT JOIN options o ON (d.deal_id=o.deal_id)\n",
    "    GROUP BY d.deal_id\n",
    "\"\"\"\n",
    "cursor.execute(sql_query)\n",
    "rows = cursor.fetchall()\n",
    "\n",
    "#cursor.execute(\"\"\"SELECT d.deal_id, d.title, d.title_general, d.highlights, d.customer_category_id\n",
    "#   FROM deals d\n",
    "#\"\"\")\n",
    "\n",
    "counter  = 0\n",
    "counterTotal = 0\n",
    "for row in rows:\n",
    "    if row[3]:\n",
    "        category = get_taxonomy_path(row[3])\n",
    "        \n",
    "        document = {\n",
    "            'deal_id': row[0],\n",
    "            'title_general': row[1],\n",
    "            'option_titles': row[2],\n",
    "            'category' : category,\n",
    "            'timestamp': datetime.now(timezone.utc).isoformat()\n",
    "        }    \n",
    "        es.index(index=index_name, document=document)\n",
    "        counter = counter + 1\n",
    "    counterTotal = counterTotal + 1\n",
    "\n",
    "conn.close()\n",
    "print (counter)\n",
    "print (counterTotal)"
   ]
  },
  {
   "cell_type": "code",
   "execution_count": 9,
   "id": "7bb62e16-4729-49b8-9910-01416a0dda36",
   "metadata": {},
   "outputs": [
    {
     "data": {
      "text/html": [
       "<strong>Retrieval: 6 deals. In 0.055653s.</strong>"
      ],
      "text/plain": [
       "<IPython.core.display.HTML object>"
      ]
     },
     "metadata": {},
     "output_type": "display_data"
    },
    {
     "data": {
      "text/html": [
       "<table border=\"1\" class=\"dataframe\">\n",
       "  <thead>\n",
       "    <tr style=\"text-align: right;\">\n",
       "      <th></th>\n",
       "      <th>deal_id</th>\n",
       "      <th>title_general</th>\n",
       "      <th>category</th>\n",
       "      <th>score</th>\n",
       "    </tr>\n",
       "  </thead>\n",
       "  <tbody>\n",
       "    <tr>\n",
       "      <th>0</th>\n",
       "      <td>viator-mexitours-71</td>\n",
       "      <td>Val 'Quirico - People's Elves Show</td>\n",
       "      <td>Nearby / Things To Do / Sightseeing & Tours</td>\n",
       "      <td>29.234852</td>\n",
       "    </tr>\n",
       "    <tr>\n",
       "      <th>1</th>\n",
       "      <td>val-ds-signature</td>\n",
       "      <td>Up to 39% Off on Salon - Hair Care at Val Ds Signature</td>\n",
       "      <td>Nearby / Beauty & Spas / Salons</td>\n",
       "      <td>10.312409</td>\n",
       "    </tr>\n",
       "    <tr>\n",
       "      <th>2</th>\n",
       "      <td>beauty-spa-by-val-6</td>\n",
       "      <td>Up to 67% Off on Laser Hair Removal at Beauty spa by val</td>\n",
       "      <td>Nearby / Beauty & Spas / Hair Removal</td>\n",
       "      <td>10.009469</td>\n",
       "    </tr>\n",
       "    <tr>\n",
       "      <th>3</th>\n",
       "      <td>skin-haus-by-val</td>\n",
       "      <td>Skin Haus By Val Offers Brazilian Waxing with Optional Relaxing Jelly Mask at Up to 44% Off!</td>\n",
       "      <td>Nearby / Beauty & Spas / Hair Removal</td>\n",
       "      <td>8.956974</td>\n",
       "    </tr>\n",
       "    <tr>\n",
       "      <th>4</th>\n",
       "      <td>skin-haus-by-val-1</td>\n",
       "      <td>Skin Haus By Val offers transformative 3-session Procell Micro-Channeling w/ Stem Cell Infusion (Up to 46% Off)</td>\n",
       "      <td>Nearby / Beauty & Spas</td>\n",
       "      <td>8.509583</td>\n",
       "    </tr>\n",
       "    <tr>\n",
       "      <th>5</th>\n",
       "      <td>hair-by-val-1</td>\n",
       "      <td>Experience expert men's haircuts with shampoo and style at Hair By Val, offering up to 50% off for ultimate grooming.</td>\n",
       "      <td>Nearby / Beauty & Spas / Hair & Styling</td>\n",
       "      <td>8.302238</td>\n",
       "    </tr>\n",
       "  </tbody>\n",
       "</table>"
      ],
      "text/plain": [
       "<IPython.core.display.HTML object>"
      ]
     },
     "metadata": {},
     "output_type": "display_data"
    }
   ],
   "source": [
    "#search_term = 'oil change'\n",
    "search_term = 'Oil changes change Engine replacement services Lubr ication filter Routine oil change Motor oil change Oil maintenance Oil service intervals'\n",
    "search_term = 'val'\n",
    "start_time = time.time()\n",
    "search_query = {\n",
    "    '_source': ['deal_id', 'title_general', 'option_titles', 'category'],\n",
    "    'query': {\n",
    "        'bool': {\n",
    "            'should': [\n",
    "                {'match': {'title_general': {'query': search_term, 'boost': 1}}},\n",
    "                {'match': {'option_titles': {'query': search_term, 'boost': 1}}},\n",
    "            ]\n",
    "        }\n",
    "    },\n",
    "    'size': 10000\n",
    "}\n",
    "\n",
    "response = es.search(index=index_name, body=search_query)\n",
    "end_time = time.time()\n",
    "elapsed_time = end_time - start_time\n",
    "\n",
    "documents = []\n",
    "for hit in response['hits']['hits']:\n",
    "    document = hit['_source']\n",
    "    score = hit['_score']\n",
    "\n",
    "    document['score'] = score\n",
    "    documents.append(document)\n",
    "#print (response)\n",
    "df = pd.DataFrame(documents)\n",
    "df['title'] = df.apply(lambda x: f'<a href=\"https://www.groupon.com/deals/{x[\"deal_id\"]}\" target=\"_blank\">{x[\"title_general\"]}</a>', axis=1)\n",
    "count = df[\"deal_id\"].count()\n",
    "\n",
    "\n",
    "display(HTML(\"<strong>Retrieval: \" + str(df['deal_id'].count()) + f\" deals. In {elapsed_time:.6f}\" + \"s.</strong>\"))\n",
    "display(HTML(df[[\"deal_id\", \"title_general\", \"category\", \"score\"]].head(1000).to_html(escape=False)))"
   ]
  },
  {
   "cell_type": "markdown",
   "id": "5fef279c-9e64-4d50-89aa-85641282e76c",
   "metadata": {},
   "source": [
    "### search in categories"
   ]
  },
  {
   "cell_type": "code",
   "execution_count": 13,
   "id": "28dcaa47-b76b-41d8-98da-f72dd8aed586",
   "metadata": {},
   "outputs": [
    {
     "name": "stdout",
     "output_type": "stream",
     "text": [
      "deal_id          1\n",
      "title_general    1\n",
      "option_titles    1\n",
      "category         1\n",
      "timestamp        1\n",
      "score            1\n",
      "title            1\n",
      "dtype: int64\n"
     ]
    },
    {
     "data": {
      "text/html": [
       "<table border=\"1\" class=\"dataframe\">\n",
       "  <thead>\n",
       "    <tr style=\"text-align: right;\">\n",
       "      <th></th>\n",
       "      <th>title_general</th>\n",
       "      <th>category</th>\n",
       "      <th>score</th>\n",
       "    </tr>\n",
       "  </thead>\n",
       "  <tbody>\n",
       "    <tr>\n",
       "      <th>0</th>\n",
       "      <td>Costway 4 Sizes Jacquard 8'' Foam Mattress Medium Firm Bed-in-a-Box</td>\n",
       "      <td>Goods / For the Home / Mattresses & Accessories</td>\n",
       "      <td>9.736887</td>\n",
       "    </tr>\n",
       "  </tbody>\n",
       "</table>"
      ],
      "text/plain": [
       "<IPython.core.display.HTML object>"
      ]
     },
     "metadata": {},
     "output_type": "display_data"
    }
   ],
   "source": [
    "query = 'Mattresses'\n",
    "\n",
    "search_query = {\n",
    "    'query': {\n",
    "        'multi_match': {\n",
    "            'query': query,\n",
    "            'fields': ['category']\n",
    "        }\n",
    "    },\n",
    "    'size': 10000\n",
    "}\n",
    "\n",
    "response = es.search(index=index_name, body=search_query)\n",
    "documents = []\n",
    "for hit in response['hits']['hits']:\n",
    "    document = hit['_source']\n",
    "    score = hit['_score']\n",
    "    document['score'] = score\n",
    "    documents.append(document)\n",
    "    \n",
    "df = pd.DataFrame(documents)\n",
    "df['title'] = df.apply(lambda x: f'<a href=\"https://www.groupon.com/deals/{x[\"deal_id\"]}\" target=\"_blank\">{x[\"title_general\"]}</a>', axis=1)\n",
    "print(df.count())\n",
    "display(HTML(df[[\"title_general\", \"category\", \"score\"]].head(100).to_html(escape=False)))"
   ]
  },
  {
   "cell_type": "code",
   "execution_count": null,
   "id": "c6416ef0-c98d-432e-9ace-a532814f828f",
   "metadata": {},
   "outputs": [],
   "source": []
  }
 ],
 "metadata": {
  "kernelspec": {
   "display_name": "Python 3 (ipykernel)",
   "language": "python",
   "name": "python3"
  },
  "language_info": {
   "codemirror_mode": {
    "name": "ipython",
    "version": 3
   },
   "file_extension": ".py",
   "mimetype": "text/x-python",
   "name": "python",
   "nbconvert_exporter": "python",
   "pygments_lexer": "ipython3",
   "version": "3.12.2"
  }
 },
 "nbformat": 4,
 "nbformat_minor": 5
}
